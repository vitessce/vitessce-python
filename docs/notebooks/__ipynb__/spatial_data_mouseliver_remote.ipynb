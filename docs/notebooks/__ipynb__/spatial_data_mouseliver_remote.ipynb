{
 "cells": [
  {
   "cell_type": "markdown",
   "id": "Hbol",
   "metadata": {
    "marimo": {
     "config": {
      "hide_code": true
     }
    }
   },
   "source": [
    "# Vitessce Widget Tutorial"
   ]
  },
  {
   "cell_type": "markdown",
   "id": "MJUe",
   "metadata": {
    "marimo": {
     "config": {
      "hide_code": true
     }
    }
   },
   "source": [
    "# Visualization of a SpatialData object and individual Spatial Elements, remote data"
   ]
  },
  {
   "cell_type": "markdown",
   "id": "vblA",
   "metadata": {
    "marimo": {
     "config": {
      "hide_code": true
     }
    }
   },
   "source": [
    "This notebook explains how to create interactive visualizations of data that are accessible remotely.\n",
    "\n",
    "\n",
    "We progress through different visualization tasks, first demonstrating how Vitessce facilitates integrated imaging and spatial single-cell visualizations, then demonstrating visualization of non-spatial and image-only datasets."
   ]
  },
  {
   "cell_type": "markdown",
   "id": "bkHC",
   "metadata": {
    "marimo": {
     "config": {
      "hide_code": true
     }
    }
   },
   "source": [
    "<!--## Table of Contents\n",
    "\n",
    "- SpatialData (via Zarr)\n",
    "- AnnData via Zarr\n",
    "- AnnData via H5AD\n",
    "- OME-Zarr\n",
    "- OME-TIFF\n",
    "-->"
   ]
  },
  {
   "cell_type": "markdown",
   "id": "lEQa",
   "metadata": {
    "marimo": {
     "config": {
      "hide_code": true
     }
    }
   },
   "source": [
    "## Utility dependencies"
   ]
  },
  {
   "cell_type": "markdown",
   "id": "PKri",
   "metadata": {
    "marimo": {
     "config": {
      "hide_code": true
     }
    }
   },
   "source": [
    "First, we import utility dependencies which will be used to download the example dataset and manipulate file paths, zip files, and JSON files."
   ]
  },
  {
   "cell_type": "code",
   "execution_count": null,
   "id": "Xref",
   "metadata": {},
   "outputs": [],
   "source": [
    "import os\n",
    "from os.path import join, isfile, isdir\n",
    "from urllib.request import urlretrieve\n",
    "import zipfile\n",
    "import json"
   ]
  },
  {
   "cell_type": "markdown",
   "id": "SFPL",
   "metadata": {
    "marimo": {
     "config": {
      "hide_code": true
     }
    }
   },
   "source": [
    "## Dependencies for Vitessce"
   ]
  },
  {
   "cell_type": "markdown",
   "id": "BYtC",
   "metadata": {
    "marimo": {
     "config": {
      "hide_code": true
     }
    }
   },
   "source": [
    "Here, we import classes and functions from the `vitessce` Python package.\n",
    "This package includes not only APIs for [visualization configuration](https://python-docs.vitessce.io/api_config.html) but also [helper functions](https://python-docs.vitessce.io/api_data.html#vitessce-data-utils) for basic data transformation tasks.\n",
    "To specify mappings between data fields and visualization properties, the package contains [classes](https://python-docs.vitessce.io/api_data.html#module-vitessce.wrappers) which wrap standard single-cell data structures stored in formats including [AnnData](https://doi.org/10.1101/2021.12.16.473007), [SpatialData](https://doi.org/10.1038/s41592-024-02212-x), [OME-TIFF](https://doi.org/10.1007/978-3-030-23937-4_1), and [OME-Zarr](https://doi.org/10.1038/s41592-021-01326-w):\n",
    "\n",
    "- [AnnDataWrapper](https://python-docs.vitessce.io/api_data.html#vitessce.wrappers.AnnDataWrapper)\n",
    "- [ImageOmeTiffWrapper](https://python-docs.vitessce.io/api_data.html#vitessce.wrappers.ImageOmeTiffWrapper)\n",
    "- [ImageOmeZarrWrapper](https://python-docs.vitessce.io/api_data.html#vitessce.wrappers.ImageOmeZarrWrapper)\n",
    "- [ObsSegmentationsOmeTiffWrapper](https://python-docs.vitessce.io/api_data.html#vitessce.wrappers.ObsSegmentationsOmeTiffWrapper)\n",
    "- [ObsSegmentationsOmeZarrWrapper](https://python-docs.vitessce.io/api_data.html#vitessce.wrappers.ObsSegmentationsOmeZarrWrapper)\n",
    "- [SpatialDataWrapper](https://python-docs.vitessce.io/api_data.html#vitessce.wrappers.SpatialDataWrapper)"
   ]
  },
  {
   "cell_type": "code",
   "execution_count": null,
   "id": "RGSE",
   "metadata": {},
   "outputs": [],
   "source": [
    "from vitessce import (\n",
    "    VitessceConfig,\n",
    "    ViewType as vt,\n",
    "    CoordinationType as ct,\n",
    "    CoordinationLevel as CL,\n",
    "    SpatialDataWrapper,\n",
    "    AnnDataWrapper,\n",
    "    ImageOmeTiffWrapper,\n",
    "    ImageOmeZarrWrapper,\n",
    "    ObsSegmentationsOmeZarrWrapper,\n",
    "    get_initial_coordination_scope_prefix,\n",
    "    hconcat,\n",
    "    vconcat,\n",
    ")\n",
    "from vitessce.data_utils import (\n",
    "    VAR_CHUNK_SIZE,\n",
    "    generate_h5ad_ref_spec,\n",
    "    multiplex_img_to_ome_tiff,\n",
    "    multiplex_img_to_ome_zarr,\n",
    ")"
   ]
  },
  {
   "cell_type": "markdown",
   "id": "Kclp",
   "metadata": {
    "marimo": {
     "config": {
      "hide_code": true
     }
    }
   },
   "source": [
    "In this blog post, we perform basic data transformation tasks to save individual elements of an integrated SpatialData object to separate files in AnnData, OME-TIFF, and OME-Zarr formats.\n",
    "To perform these data transformations, we import the following dependencies.\n",
    "In general, you will typically not need to import all of these dependencies, either because you are only working with data in one of these formats, or because the data you intend to visualize is already saved to a file or directory."
   ]
  },
  {
   "cell_type": "markdown",
   "id": "emfo",
   "metadata": {
    "marimo": {
     "config": {
      "hide_code": true
     }
    }
   },
   "source": [
    "## Download example dataset"
   ]
  },
  {
   "cell_type": "markdown",
   "id": "Hstk",
   "metadata": {
    "marimo": {
     "config": {
      "hide_code": true
     }
    }
   },
   "source": [
    "We download a mouse liver dataset which serves as a SpatialData [example dataset](https://github.com/scverse/spatialdata-notebooks/blob/main/notebooks/examples/transformations.ipynb).\n",
    "\n",
    "This dataset was generated by [Guilliams et al.](https://doi.org/10.1016/j.cell.2021.12.018) and processed using [SPArrOW](https://doi.org/10.1101/2024.07.04.601829) during the SpatialData [developer workshop](https://doi.org/10.37044/osf.io/8ck3e) in 2024."
   ]
  },
  {
   "cell_type": "code",
   "execution_count": null,
   "id": "nWHF",
   "metadata": {},
   "outputs": [],
   "source": [
    "base_url = \"https://storage.googleapis.com/vitessce-demo-data/spatialdata-may-2025\""
   ]
  },
  {
   "cell_type": "code",
   "execution_count": null,
   "id": "iLit",
   "metadata": {},
   "outputs": [],
   "source": [
    "zip_filepath = f\"{base_url}/mouse_liver.spatialdata.zarr.zip\"\n",
    "spatialdata_filepath = f\"{base_url}/mouse_liver.spatialdata.zarr\"\n",
    "adata_zarr_filepath = f\"{base_url}/mouse_liver.anndata.zarr\"\n",
    "adata_h5ad_filepath = f\"{base_url}/mouse_liver.h5ad\"\n",
    "ref_spec_json_filepath = f\"{base_url}/mouse_liver.h5ad.ref.json\"\n",
    "ome_tiff_filepath = f\"{base_url}/mouse_liver.ome.tif\"\n",
    "offsets_json_filepath = f\"{base_url}/mouse_liver.ome.tif.offsets.json\"\n",
    "ome_zarr_filepath = f\"{base_url}/mouse_liver.ome.zarr\"\n",
    "labels_ome_zarr_filepath = f\"{base_url}/mouse_liver.labels.ome.zarr\""
   ]
  },
  {
   "cell_type": "markdown",
   "id": "ZHCJ",
   "metadata": {
    "marimo": {
     "config": {
      "hide_code": true
     }
    }
   },
   "source": [
    "## Visualization of a SpatialData object"
   ]
  },
  {
   "cell_type": "markdown",
   "id": "ROlb",
   "metadata": {
    "marimo": {
     "config": {
      "hide_code": true
     }
    }
   },
   "source": [
    "SpatialData objects are the most complex type of data structure we will work with in this blog post.\n",
    "SpatialData objects function as contains for multiple types of Spatial Elements:\n",
    "\n",
    "- Tables (each table is represented as an AnnData object)\n",
    "- Points (e.g., coordinates of transcripts from FISH-based experiments)\n",
    "- Shapes (vector-based shapes such as polygons and circles)\n",
    "- Labels (label images, i.e., segmentation bitmasks; each label image is stored using OME-Zarr)\n",
    "- Images (microscopy images; each image is stored using OME-Zarr)"
   ]
  },
  {
   "cell_type": "markdown",
   "id": "qnkX",
   "metadata": {
    "marimo": {
     "config": {
      "hide_code": true
     }
    }
   },
   "source": [
    "## Configure Vitessce\n",
    "\n",
    "Vitessce needs to know which pieces of data we are interested in visualizing, the visualization types we would like to use, and how we want to coordinate (or link) the views.\n",
    "To visualize data stored in a SpatialData object, we use the `SpatialDataWrapper` class and specify the paths (relative to the root of the Zarr [directory store](https://zarr.readthedocs.io/en/v2.18.5/api/storage.html#zarr.storage.DirectoryStore)) to different spatial elements of interest."
   ]
  },
  {
   "cell_type": "code",
   "execution_count": null,
   "id": "TqIu",
   "metadata": {},
   "outputs": [],
   "source": [
    "vc = VitessceConfig(schema_version='1.0.18', name='SpatialData Demo')\n",
    "_wrapper = SpatialDataWrapper(sdata_url=spatialdata_filepath, table_path='tables/table', image_path='images/raw_image', obs_segmentations_path='labels/segmentation_mask', obs_feature_matrix_path='tables/table/X', obs_set_paths=['tables/table/obs/annotation'], obs_set_names=['Annotation'], region='nucleus_boundaries', coordinate_system='global', coordination_values={'obsType': 'cell'})\n",
    "_dataset = vc.add_dataset(name='Mouse Liver').add_object(_wrapper)\n",
    "_spatial = vc.add_view('spatialBeta', dataset=_dataset)\n",
    "feature_list = vc.add_view('featureList', dataset=_dataset)\n",
    "_layer_controller = vc.add_view('layerControllerBeta', dataset=_dataset)\n",
    "obs_sets = vc.add_view('obsSets', dataset=_dataset)\n",
    "_heatmap = vc.add_view('heatmap', dataset=_dataset)\n",
    "[obs_color_encoding_scope] = vc.add_coordination('obsColorEncoding')\n",
    "obs_color_encoding_scope.set_value('cellSetSelection')\n",
    "vc.link_views_by_dict([_spatial, _layer_controller], {'imageLayer': CL([{'photometricInterpretation': 'BlackIsZero', 'imageChannel': CL([{'spatialTargetC': 0, 'spatialChannelColor': [255, 255, 255], 'spatialChannelWindow': [0, 4000]}])}])}, scope_prefix=get_initial_coordination_scope_prefix('A', 'image'))\n",
    "vc.link_views_by_dict([_spatial, _layer_controller], {'segmentationLayer': CL([{'segmentationChannel': CL([{'obsColorEncoding': obs_color_encoding_scope}])}])}, scope_prefix=get_initial_coordination_scope_prefix('A', 'obsSegmentations'))\n",
    "vc.link_views([_spatial, _layer_controller, feature_list, obs_sets, _heatmap], ['obsType'], [_wrapper.obs_type_label])\n",
    "vc.link_views_by_dict([feature_list, obs_sets, _heatmap], {'obsColorEncoding': obs_color_encoding_scope}, meta=False)\n",
    "vc.layout(_spatial / _heatmap | _layer_controller / (feature_list | obs_sets))"
   ]
  },
  {
   "cell_type": "markdown",
   "id": "Vxnm",
   "metadata": {
    "marimo": {
     "config": {
      "hide_code": true
     }
    }
   },
   "source": [
    "### Render the widget"
   ]
  },
  {
   "cell_type": "code",
   "execution_count": null,
   "id": "DnEU",
   "metadata": {},
   "outputs": [],
   "source": [
    "_vw = vc.widget(height=900)\n",
    "_vw"
   ]
  },
  {
   "cell_type": "markdown",
   "id": "ulZA",
   "metadata": {
    "marimo": {
     "config": {
      "hide_code": true
     }
    }
   },
   "source": [
    "## Extract AnnData object from SpatialData object"
   ]
  },
  {
   "cell_type": "markdown",
   "id": "ecfG",
   "metadata": {
    "marimo": {
     "config": {
      "hide_code": true
     }
    }
   },
   "source": [
    "The above example demonstrates how to visualize a spatial 'omics dataset containing not only single-cell information (e.g., a cell-by-gene expression matrix, cell type annotations) but also an image and cell segmentations.\n",
    "To demonstrate how to use Vitessce to visualize data from a (non-spatial) single-cell experiment, we will extract this information from the SpatialData object and save it to a simpler [AnnData](https://anndata.readthedocs.io/) object (ignoring the imaging and spatially-resolved elements)."
   ]
  },
  {
   "cell_type": "markdown",
   "id": "Pvdt",
   "metadata": {
    "marimo": {
     "config": {
      "hide_code": true
     }
    }
   },
   "source": [
    "As Zarr-formatted data can be easily visualized by Vitessce, we recommend saving the AnnData object to a Zarr store using the [write_zarr](https://anndata.readthedocs.io/en/stable/generated/anndata.AnnData.write_zarr.html) method.\n",
    "Optionally, the shape of array chunks (for the AnnData `X` array) can be specified as a parameter, to optimize performance based on data access patterns.\n",
    "For example, a common pattern is to visualize data across all cells for one gene.\n",
    "To support such a pattern, the chunk shape can be specified as follows, `(total number of cells, small number of genes)`, resulting in tall-and-skinny array chunks."
   ]
  },
  {
   "cell_type": "markdown",
   "id": "ZBYS",
   "metadata": {
    "marimo": {
     "config": {
      "hide_code": true
     }
    }
   },
   "source": [
    "Alternatively, your AnnData object may already be stored using the H5AD (HDF5-based) format.\n",
    "To demonstrate this scenario, we save the object using the [write_h5ad](https://anndata.readthedocs.io/en/stable/generated/anndata.AnnData.write_h5ad.html) method."
   ]
  },
  {
   "cell_type": "markdown",
   "id": "aLJB",
   "metadata": {
    "marimo": {
     "config": {
      "hide_code": true
     }
    }
   },
   "source": [
    "To read H5AD-formatted data, Vitessce requires an accompanying JSON [references specification](https://fsspec.github.io/kerchunk/spec.html) file, which can be constructed using the `generate_h5ad_ref_spec` utility function."
   ]
  },
  {
   "cell_type": "markdown",
   "id": "nHfw",
   "metadata": {
    "marimo": {
     "config": {
      "hide_code": true
     }
    }
   },
   "source": [
    "## Visualization of an AnnData object"
   ]
  },
  {
   "cell_type": "markdown",
   "id": "xXTn",
   "metadata": {
    "marimo": {
     "config": {
      "hide_code": true
     }
    }
   },
   "source": [
    "### Zarr-based AnnData"
   ]
  },
  {
   "cell_type": "code",
   "execution_count": null,
   "id": "AjVT",
   "metadata": {},
   "outputs": [],
   "source": [
    "vc_1 = VitessceConfig(schema_version='1.0.18', name='AnnData (zarr)')\n",
    "_wrapper = AnnDataWrapper(adata_url=adata_zarr_filepath, obs_feature_matrix_path='X', obs_set_paths=['obs/annotation'], obs_set_names=['Annotation'], coordination_values={'obsType': 'cell'})\n",
    "_dataset = vc_1.add_dataset(name='Mouse Liver').add_object(_wrapper)\n",
    "_heatmap = vc_1.add_view(vt.HEATMAP, dataset=_dataset)\n",
    "feature_list_1 = vc_1.add_view(vt.FEATURE_LIST, dataset=_dataset)\n",
    "obs_sets_1 = vc_1.add_view(vt.OBS_SETS, dataset=_dataset)\n",
    "_violin_plots = vc_1.add_view('obsSetFeatureValueDistribution', dataset=_dataset)\n",
    "vc_1.link_views([_heatmap, feature_list_1, obs_sets_1], ['obsType', 'featureValueColormapRange'], ['cell', [0, 0.01]])\n",
    "vc_1.layout(_heatmap / _violin_plots | feature_list_1 / obs_sets_1)"
   ]
  },
  {
   "cell_type": "code",
   "execution_count": null,
   "id": "pHFh",
   "metadata": {},
   "outputs": [],
   "source": [
    "vc_1.widget()"
   ]
  },
  {
   "cell_type": "markdown",
   "id": "NCOB",
   "metadata": {
    "marimo": {
     "config": {
      "hide_code": true
     }
    }
   },
   "source": [
    "### H5AD-based AnnData"
   ]
  },
  {
   "cell_type": "code",
   "execution_count": null,
   "id": "aqbW",
   "metadata": {},
   "outputs": [],
   "source": [
    "vc_2 = VitessceConfig(schema_version='1.0.18', name='AnnData (h5ad)')\n",
    "_wrapper = AnnDataWrapper(adata_url=adata_h5ad_filepath, ref_url=ref_spec_json_filepath, obs_feature_matrix_path='X', obs_set_paths=['obs/annotation'], obs_set_names=['Annotation'], coordination_values={'obsType': 'cell'})\n",
    "_dataset = vc_2.add_dataset(name='Mouse Liver').add_object(_wrapper)\n",
    "_heatmap = vc_2.add_view(vt.HEATMAP, dataset=_dataset)\n",
    "feature_list_2 = vc_2.add_view(vt.FEATURE_LIST, dataset=_dataset)\n",
    "obs_sets_2 = vc_2.add_view(vt.OBS_SETS, dataset=_dataset)\n",
    "_violin_plots = vc_2.add_view('obsSetFeatureValueDistribution', dataset=_dataset)\n",
    "vc_2.link_views([_heatmap, feature_list_2, obs_sets_2], ['obsType', 'featureValueColormapRange'], ['cell', [0, 0.01]])\n",
    "vc_2.layout(_heatmap / _violin_plots | feature_list_2 / obs_sets_2)"
   ]
  },
  {
   "cell_type": "code",
   "execution_count": null,
   "id": "TRpd",
   "metadata": {},
   "outputs": [],
   "source": [
    "vc_2.widget()"
   ]
  },
  {
   "cell_type": "markdown",
   "id": "TXez",
   "metadata": {
    "marimo": {
     "config": {
      "hide_code": true
     }
    }
   },
   "source": [
    "## Visualization of an image file"
   ]
  },
  {
   "cell_type": "markdown",
   "id": "dNNg",
   "metadata": {
    "marimo": {
     "config": {
      "hide_code": true
     }
    }
   },
   "source": [
    "### OME-Zarr image"
   ]
  },
  {
   "cell_type": "code",
   "execution_count": null,
   "id": "yCnT",
   "metadata": {},
   "outputs": [],
   "source": [
    "vc_3 = VitessceConfig(schema_version='1.0.18', name='Image (ome-zarr)')\n",
    "img_wrapper = ImageOmeZarrWrapper(img_url=ome_zarr_filepath, coordination_values={'fileUid': 'image'})\n",
    "segmentations_wrapper = ObsSegmentationsOmeZarrWrapper(img_url=labels_ome_zarr_filepath, coordination_values={'fileUid': 'segmentations'})\n",
    "_dataset = vc_3.add_dataset(name='Mouse Liver').add_object(img_wrapper).add_object(segmentations_wrapper)\n",
    "_spatial = vc_3.add_view('spatialBeta', dataset=_dataset)\n",
    "_layer_controller = vc_3.add_view('layerControllerBeta', dataset=_dataset)\n",
    "vc_3.link_views_by_dict([_spatial, _layer_controller], {'imageLayer': CL([{'fileUid': 'image', 'photometricInterpretation': 'BlackIsZero', 'imageChannel': CL([{'spatialTargetC': 0, 'spatialChannelColor': [255, 255, 255], 'spatialChannelWindow': [0, 4000]}])}])}, scope_prefix=get_initial_coordination_scope_prefix('A', 'image'))\n",
    "vc_3.link_views_by_dict([_spatial, _layer_controller], {'segmentationLayer': CL([{'fileUid': 'segmentations', 'segmentationChannel': CL([{'obsColorEncoding': 'spatialChannelColor', 'spatialChannelColor': [0, 255, 0], 'spatialChannelOpacity': 0.75, 'spatialSegmentationFilled': False, 'spatialSegmentationStrokeWidth': 0.25}])}])}, scope_prefix=get_initial_coordination_scope_prefix('A', 'obsSegmentations'))\n",
    "vc_3.link_views([_spatial, _layer_controller, feature_list_2, obs_sets_2], ['obsType'], ['cell'])\n",
    "vc_3.layout(hconcat(_spatial, _layer_controller, split=(2, 1)))"
   ]
  },
  {
   "cell_type": "code",
   "execution_count": null,
   "id": "wlCL",
   "metadata": {},
   "outputs": [],
   "source": [
    "_vw = vc_3.widget()\n",
    "_vw"
   ]
  },
  {
   "cell_type": "markdown",
   "id": "kqZH",
   "metadata": {
    "marimo": {
     "config": {
      "hide_code": true
     }
    }
   },
   "source": [
    "### OME-TIFF image"
   ]
  },
  {
   "cell_type": "code",
   "execution_count": null,
   "id": "wAgl",
   "metadata": {},
   "outputs": [],
   "source": [
    "vc_4 = VitessceConfig(schema_version='1.0.18', name='Image and segmentations (ome-tiff)')\n",
    "_wrapper = ImageOmeTiffWrapper(img_url=ome_tiff_filepath, offsets_url=offsets_json_filepath)\n",
    "_dataset = vc_4.add_dataset(name='Mouse Liver').add_object(_wrapper)\n",
    "_spatial = vc_4.add_view('spatialBeta', dataset=_dataset)\n",
    "_layer_controller = vc_4.add_view('layerControllerBeta', dataset=_dataset)\n",
    "vc_4.link_views_by_dict([_spatial, _layer_controller], {'imageLayer': CL([{'photometricInterpretation': 'BlackIsZero', 'imageChannel': CL([{'spatialTargetC': 0, 'spatialChannelColor': [255, 255, 255], 'spatialChannelWindow': [0, 4000]}])}])}, scope_prefix=get_initial_coordination_scope_prefix('A', 'image'))\n",
    "vc_4.layout(hconcat(_spatial, _layer_controller, split=(2, 1)))"
   ]
  },
  {
   "cell_type": "code",
   "execution_count": null,
   "id": "rEll",
   "metadata": {},
   "outputs": [],
   "source": [
    "vc_4.widget()"
   ]
  },
  {
   "cell_type": "markdown",
   "id": "dGlV",
   "metadata": {
    "marimo": {
     "config": {
      "hide_code": true
     }
    }
   },
   "source": [
    "## Data location options\n",
    "\n",
    "Vitessce can visualize data [not only stored](https://python-docs.vitessce.io/data_options.html) locally (referenced using local file or directory paths) but also stored remotely (referenced using absolute URL paths).\n",
    "Depending on whether the Python kernel running the Jupyter process is running locally versus remotely (e.g., on a cluster or cloud platform such as Google Colab), certain data locations may be challenging to access from the machine running the Jupyter notebook frontend (i.e., the machine on which the web browser used to view the notebook is installed).\n",
    "\n",
    "To provide data via one of these alternative mechanisms, use parameters with the following suffices when instantiating the data wrapper classes.\n",
    "\n",
    "- `_path`: Local file or directory\n",
    "- `_url`: Remote file or directory\n",
    "- `_store`: Zarr-store-accessible (for zarr-based formats)\n",
    "- `_artifact`: Lamin artifact\n",
    "\n",
    "For example, `adata_path` can be exchanged for one of the following options.\n",
    "\n",
    "```diff\n",
    "AnnDataWrapper(\n",
    "-    adata_path=\"./mouse_liver.spatialdata.zarr\",\n",
    "+    adata_url=\"https://example.com/mouse_liver.spatialdata.zarr\", # Absolute URL\n",
    "+    adata_store=\"./mouse_liver.spatialdata.zarr\", # String interpreted as root of DirectoryStore\n",
    "+    adata_store=zarr.DirectoryStore(\"./mouse_liver.spatialdata.zarr\"), # Instance of zarr.storage\n",
    "+    adata_artifact=adata_zarr_artifact, # Instance of ln.Artifact\n",
    "    ...\n",
    "```\n",
    "\n",
    "Note that the `_store` options are only available for Zarr-based formats, such as AnnDataWrapper, SpatialDataWrapper, and ImageOmeZarrWrapper.\n",
    "Further, when multiple files are required, such as both `adata_path` and `ref_path` (for the JSON reference specification file accompanying an H5AD file) or `img_path` and `offsets_path`, multiple parameter suffices may need to be changed."
   ]
  },
  {
   "cell_type": "code",
   "execution_count": null,
   "id": "SdmI",
   "metadata": {},
   "outputs": [],
   "source": [
    "import marimo as mo"
   ]
  }
 ],
 "metadata": {},
 "nbformat": 4,
 "nbformat_minor": 5
}
