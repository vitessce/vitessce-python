{
 "cells": [
  {
   "cell_type": "markdown",
   "id": "Hbol",
   "metadata": {
    "marimo": {
     "config": {
      "hide_code": true
     }
    }
   },
   "source": [
    "# Visualization of a SpatialData object, blobs example"
   ]
  },
  {
   "cell_type": "markdown",
   "id": "MJUe",
   "metadata": {
    "marimo": {
     "config": {
      "hide_code": true
     }
    }
   },
   "source": [
    "## Import dependencies"
   ]
  },
  {
   "cell_type": "code",
   "execution_count": null,
   "id": "vblA",
   "metadata": {},
   "outputs": [],
   "source": [
    "import spatialdata\n",
    "from os.path import join"
   ]
  },
  {
   "cell_type": "code",
   "execution_count": null,
   "id": "bkHC",
   "metadata": {},
   "outputs": [],
   "source": [
    "sdata = spatialdata.datasets.blobs()"
   ]
  },
  {
   "cell_type": "code",
   "execution_count": null,
   "id": "lEQa",
   "metadata": {},
   "outputs": [],
   "source": [
    "spatialdata_filepath = join(\"data\", \"blobs.spatialdata.zarr\")"
   ]
  },
  {
   "cell_type": "code",
   "execution_count": null,
   "id": "PKri",
   "metadata": {},
   "outputs": [],
   "source": [
    "sdata.write(spatialdata_filepath, overwrite=True)"
   ]
  },
  {
   "cell_type": "code",
   "execution_count": null,
   "id": "Xref",
   "metadata": {},
   "outputs": [],
   "source": [
    "from vitessce import (\n",
    "    VitessceConfig,\n",
    "    ViewType as vt,\n",
    "    CoordinationType as ct,\n",
    "    CoordinationLevel as CL,\n",
    "    SpatialDataWrapper,\n",
    "    get_initial_coordination_scope_prefix\n",
    ")"
   ]
  },
  {
   "cell_type": "markdown",
   "id": "SFPL",
   "metadata": {
    "marimo": {
     "config": {
      "hide_code": true
     }
    }
   },
   "source": [
    "## Configure Vitessce\n",
    "\n",
    "Vitessce needs to know which pieces of data we are interested in visualizing, the visualization types we would like to use, and how we want to coordinate (or link) the views."
   ]
  },
  {
   "cell_type": "code",
   "execution_count": null,
   "id": "BYtC",
   "metadata": {},
   "outputs": [],
   "source": [
    "vc = VitessceConfig(\n",
    "    schema_version=\"1.0.18\",\n",
    "    name='Visium SpatialData Demo (blobs)',\n",
    ")\n",
    "# Add data to the configuration:\n",
    "wrapper = SpatialDataWrapper(\n",
    "    sdata_store=spatialdata_filepath,\n",
    "    # The following paths are relative to the root of the SpatialData zarr store on-disk.\n",
    "    image_path=\"images/blobs_image\",\n",
    "    obs_segmentations_path=\"labels/blobs_labels\",\n",
    "    coordinate_system=\"global\",\n",
    "    coordination_values={\n",
    "        \"obsType\": \"blob\",\n",
    "        \"fileUid\": \"my_unique_id\"\n",
    "    }\n",
    ")\n",
    "dataset = vc.add_dataset(name='Blobs').add_object(wrapper)\n",
    "\n",
    "# Add views (visualizations) to the configuration:\n",
    "spatial = vc.add_view(\"spatialBeta\", dataset=dataset)\n",
    "layer_controller = vc.add_view(\"layerControllerBeta\", dataset=dataset)\n",
    "\n",
    "vc.link_views_by_dict([spatial, layer_controller], {\n",
    "    'imageLayer': CL([{\n",
    "        \"fileUid\": \"my_unique_id\",\n",
    "        'photometricInterpretation': 'BlackIsZero',\n",
    "        'spatialLayerOpacity': 0.9,\n",
    "        'imageChannel': CL([\n",
    "            {\n",
    "                \"spatialTargetC\": 0,\n",
    "                \"spatialChannelColor\": [255, 0, 0],\n",
    "                \"spatialChannelOpacity\": 1.0\n",
    "            },\n",
    "            {\n",
    "                \"spatialTargetC\": 1,\n",
    "                \"spatialChannelColor\": [0, 255, 0],\n",
    "                \"spatialChannelOpacity\": 1.0\n",
    "            },\n",
    "            {\n",
    "                \"spatialTargetC\": 2,\n",
    "                \"spatialChannelColor\": [0, 0, 255],\n",
    "                \"spatialChannelOpacity\": 1.0\n",
    "            }\n",
    "        ])\n",
    "    }]),\n",
    "}, scope_prefix=get_initial_coordination_scope_prefix(\"A\", \"image\"))\n",
    "\n",
    "vc.link_views_by_dict([spatial, layer_controller], {\n",
    "    'segmentationLayer': CL([{\n",
    "        \"fileUid\": \"my_unique_id\",\n",
    "        'segmentationChannel': CL([{\n",
    "            'spatialChannelVisible': True,\n",
    "            'obsType': 'blob',\n",
    "        }]),\n",
    "    }]),\n",
    "}, scope_prefix=get_initial_coordination_scope_prefix(\"A\", \"obsSegmentations\"))\n",
    "\n",
    "# Layout the views\n",
    "vc.layout(spatial | layer_controller);"
   ]
  },
  {
   "cell_type": "markdown",
   "id": "RGSE",
   "metadata": {
    "marimo": {
     "config": {
      "hide_code": true
     }
    }
   },
   "source": [
    "### Render the widget"
   ]
  },
  {
   "cell_type": "code",
   "execution_count": null,
   "id": "Kclp",
   "metadata": {},
   "outputs": [],
   "source": [
    "vw = vc.widget()\n",
    "vw"
   ]
  },
  {
   "cell_type": "code",
   "execution_count": null,
   "id": "emfo",
   "metadata": {},
   "outputs": [],
   "source": [
    "import marimo as mo"
   ]
  }
 ],
 "metadata": {},
 "nbformat": 4,
 "nbformat_minor": 5
}
