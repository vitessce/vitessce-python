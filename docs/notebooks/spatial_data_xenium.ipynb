{
 "cells": [
  {
   "cell_type": "markdown",
   "metadata": {
    "nbsphinx": "hidden"
   },
   "source": [
    "# Vitessce Widget Tutorial"
   ]
  },
  {
   "cell_type": "markdown",
   "metadata": {},
   "source": [
    "# Visualization of a SpatialData object"
   ]
  },
  {
   "cell_type": "markdown",
   "metadata": {},
   "source": [
    "## Import dependencies\n"
   ]
  },
  {
   "cell_type": "code",
   "execution_count": 16,
   "metadata": {},
   "outputs": [],
   "source": [
    "import os\n",
    "from os.path import join, isfile, isdir\n",
    "from urllib.request import urlretrieve\n",
    "import zipfile\n",
    "import shutil\n",
    "\n",
    "from vitessce import (\n",
    "    VitessceConfig,\n",
    "    ViewType as vt,\n",
    "    CoordinationType as ct,\n",
    "    CoordinationLevel as CL,\n",
    "    SpatialDataWrapper,\n",
    "    get_initial_coordination_scope_prefix\n",
    ")"
   ]
  },
  {
   "cell_type": "code",
   "execution_count": 17,
   "metadata": {},
   "outputs": [],
   "source": [
    "data_dir = \"data\"\n",
    "zip_filepath = join(data_dir, \"xenium_rep1_io.spatialdata.zarr.zip\")\n",
    "spatialdata_filepath = join(data_dir, \"xenium_rep1_io.spatialdata.zarr\")"
   ]
  },
  {
   "cell_type": "code",
   "execution_count": 21,
   "metadata": {},
   "outputs": [],
   "source": [
    "if not isdir(spatialdata_filepath):\n",
    "    if not isfile(zip_filepath):\n",
    "        os.makedirs(data_dir, exist_ok=True)\n",
    "        urlretrieve('https://s3.embl.de/spatialdata/spatialdata-sandbox/xenium_rep1_io.zip', zip_filepath)\n",
    "    with zipfile.ZipFile(zip_filepath,\"r\") as zip_ref:\n",
    "        zip_ref.extractall(data_dir)\n",
    "        os.rename(join(data_dir, \"data.zarr\"), spatialdata_filepath)\n",
    "        \n",
    "        # This Xenium dataset has an AnnData \"raw\" element.\n",
    "        # Reference: https://github.com/giovp/spatialdata-sandbox/issues/55\n",
    "        raw_dir = join(spatialdata_filepath, \"tables\", \"table\", \"raw\")\n",
    "        if isdir(raw_dir):\n",
    "            shutil.rmtree(raw_dir)"
   ]
  },
  {
   "cell_type": "code",
   "execution_count": 22,
   "metadata": {},
   "outputs": [],
   "source": [
    "from spatialdata import read_zarr"
   ]
  },
  {
   "cell_type": "code",
   "execution_count": 23,
   "metadata": {},
   "outputs": [
    {
     "name": "stderr",
     "output_type": "stream",
     "text": [
      "version mismatch: detected: RasterFormatV02, requested: FormatV04\n",
      "/Users/mkeller/research/dbmi/vitessce/vitessce-python/.venv/lib/python3.10/site-packages/zarr/creation.py:614: UserWarning: ignoring keyword argument 'read_only'\n",
      "  compressor, fill_value = _kwargs_compat(compressor, fill_value, kwargs)\n",
      "version mismatch: detected: RasterFormatV02, requested: FormatV04\n"
     ]
    },
    {
     "data": {
      "text/plain": [
       "SpatialData object, with associated Zarr store: /Users/mkeller/research/dbmi/vitessce/vitessce-python/docs/notebooks/data/xenium_rep1_io.spatialdata.zarr\n",
       "├── Images\n",
       "│     ├── 'morphology_focus': DataTree[cyx] (1, 25778, 35416), (1, 12889, 17708), (1, 6444, 8854), (1, 3222, 4427), (1, 1611, 2213)\n",
       "│     └── 'morphology_mip': DataTree[cyx] (1, 25778, 35416), (1, 12889, 17708), (1, 6444, 8854), (1, 3222, 4427), (1, 1611, 2213)\n",
       "├── Points\n",
       "│     └── 'transcripts': DataFrame with shape: (<Delayed>, 8) (3D points)\n",
       "├── Shapes\n",
       "│     ├── 'cell_boundaries': GeoDataFrame shape: (167780, 1) (2D shapes)\n",
       "│     └── 'cell_circles': GeoDataFrame shape: (167780, 2) (2D shapes)\n",
       "└── Tables\n",
       "      └── 'table': AnnData (167780, 313)\n",
       "with coordinate systems:\n",
       "    ▸ 'global', with elements:\n",
       "        morphology_focus (Images), morphology_mip (Images), transcripts (Points), cell_boundaries (Shapes), cell_circles (Shapes)"
      ]
     },
     "execution_count": 23,
     "metadata": {},
     "output_type": "execute_result"
    }
   ],
   "source": [
    "sdata = read_zarr(spatialdata_filepath)\n",
    "sdata"
   ]
  },
  {
   "cell_type": "code",
   "execution_count": 24,
   "metadata": {},
   "outputs": [
    {
     "data": {
      "text/plain": [
       "42638083"
      ]
     },
     "execution_count": 24,
     "metadata": {},
     "output_type": "execute_result"
    }
   ],
   "source": [
    "sdata.points['transcripts'].shape[0].compute()"
   ]
  },
  {
   "cell_type": "code",
   "execution_count": null,
   "metadata": {},
   "outputs": [],
   "source": [
    "xi = df[\"X\"].astype(np.uint32)\n",
    "yi = df[\"Y\"].astype(np.uint32)\n",
    "codes = morton_interleave(xi, yi, bits=32)   # 64-bit Morton code"
   ]
  },
  {
   "cell_type": "code",
   "execution_count": 113,
   "metadata": {},
   "outputs": [],
   "source": [
    "import pandas as pd\n",
    "import numpy as np\n",
    "from spatialdata import get_element_annotators"
   ]
  },
  {
   "cell_type": "code",
   "execution_count": 41,
   "metadata": {},
   "outputs": [],
   "source": [
    "ddf = sdata.points['transcripts']"
   ]
  },
  {
   "cell_type": "code",
   "execution_count": 50,
   "metadata": {},
   "outputs": [],
   "source": [
    "[x_min, x_max, y_min, y_max] = [ddf[\"x\"].min().compute(), ddf[\"x\"].max().compute(), ddf[\"y\"].min().compute(), ddf[\"y\"].max().compute()]"
   ]
  },
  {
   "cell_type": "code",
   "execution_count": 33,
   "metadata": {},
   "outputs": [
    {
     "data": {
      "text/html": [
       "<div>\n",
       "<style scoped>\n",
       "    .dataframe tbody tr th:only-of-type {\n",
       "        vertical-align: middle;\n",
       "    }\n",
       "\n",
       "    .dataframe tbody tr th {\n",
       "        vertical-align: top;\n",
       "    }\n",
       "\n",
       "    .dataframe thead th {\n",
       "        text-align: right;\n",
       "    }\n",
       "</style>\n",
       "<table border=\"1\" class=\"dataframe\">\n",
       "  <thead>\n",
       "    <tr style=\"text-align: right;\">\n",
       "      <th></th>\n",
       "      <th>x</th>\n",
       "      <th>y</th>\n",
       "      <th>z</th>\n",
       "      <th>feature_name</th>\n",
       "      <th>cell_id</th>\n",
       "      <th>overlaps_nucleus</th>\n",
       "      <th>transcript_id</th>\n",
       "      <th>qv</th>\n",
       "    </tr>\n",
       "  </thead>\n",
       "  <tbody>\n",
       "    <tr>\n",
       "      <th>0</th>\n",
       "      <td>4.395842</td>\n",
       "      <td>328.666473</td>\n",
       "      <td>12.019493</td>\n",
       "      <td>SEC11C</td>\n",
       "      <td>565</td>\n",
       "      <td>0</td>\n",
       "      <td>281474976710656</td>\n",
       "      <td>18.662479</td>\n",
       "    </tr>\n",
       "    <tr>\n",
       "      <th>1</th>\n",
       "      <td>5.074415</td>\n",
       "      <td>236.964844</td>\n",
       "      <td>7.608510</td>\n",
       "      <td>NegControlCodeword_0502</td>\n",
       "      <td>540</td>\n",
       "      <td>0</td>\n",
       "      <td>281474976710657</td>\n",
       "      <td>18.634956</td>\n",
       "    </tr>\n",
       "    <tr>\n",
       "      <th>2</th>\n",
       "      <td>4.702023</td>\n",
       "      <td>322.797150</td>\n",
       "      <td>12.289083</td>\n",
       "      <td>SEC11C</td>\n",
       "      <td>562</td>\n",
       "      <td>0</td>\n",
       "      <td>281474976710658</td>\n",
       "      <td>18.662479</td>\n",
       "    </tr>\n",
       "    <tr>\n",
       "      <th>3</th>\n",
       "      <td>4.906601</td>\n",
       "      <td>581.428650</td>\n",
       "      <td>11.222615</td>\n",
       "      <td>DAPK3</td>\n",
       "      <td>271</td>\n",
       "      <td>0</td>\n",
       "      <td>281474976710659</td>\n",
       "      <td>20.821745</td>\n",
       "    </tr>\n",
       "    <tr>\n",
       "      <th>4</th>\n",
       "      <td>5.660699</td>\n",
       "      <td>720.851746</td>\n",
       "      <td>9.265523</td>\n",
       "      <td>TCIM</td>\n",
       "      <td>291</td>\n",
       "      <td>0</td>\n",
       "      <td>281474976710660</td>\n",
       "      <td>18.017488</td>\n",
       "    </tr>\n",
       "    <tr>\n",
       "      <th>5</th>\n",
       "      <td>5.899098</td>\n",
       "      <td>748.592773</td>\n",
       "      <td>9.818688</td>\n",
       "      <td>TCIM</td>\n",
       "      <td>297</td>\n",
       "      <td>0</td>\n",
       "      <td>281474976710661</td>\n",
       "      <td>18.017488</td>\n",
       "    </tr>\n",
       "    <tr>\n",
       "      <th>6</th>\n",
       "      <td>6.249354</td>\n",
       "      <td>219.854141</td>\n",
       "      <td>10.271250</td>\n",
       "      <td>NKG7</td>\n",
       "      <td>536</td>\n",
       "      <td>0</td>\n",
       "      <td>281474976710662</td>\n",
       "      <td>40.000000</td>\n",
       "    </tr>\n",
       "    <tr>\n",
       "      <th>7</th>\n",
       "      <td>7.776000</td>\n",
       "      <td>878.157532</td>\n",
       "      <td>12.464459</td>\n",
       "      <td>RAPGEF3</td>\n",
       "      <td>1089</td>\n",
       "      <td>0</td>\n",
       "      <td>281474976710663</td>\n",
       "      <td>20.488186</td>\n",
       "    </tr>\n",
       "    <tr>\n",
       "      <th>8</th>\n",
       "      <td>6.397148</td>\n",
       "      <td>232.495712</td>\n",
       "      <td>7.837698</td>\n",
       "      <td>PPARG</td>\n",
       "      <td>540</td>\n",
       "      <td>0</td>\n",
       "      <td>281474976710664</td>\n",
       "      <td>35.338028</td>\n",
       "    </tr>\n",
       "    <tr>\n",
       "      <th>9</th>\n",
       "      <td>6.493312</td>\n",
       "      <td>211.362808</td>\n",
       "      <td>10.820307</td>\n",
       "      <td>RAPGEF3</td>\n",
       "      <td>532</td>\n",
       "      <td>0</td>\n",
       "      <td>281474976710665</td>\n",
       "      <td>40.000000</td>\n",
       "    </tr>\n",
       "  </tbody>\n",
       "</table>\n",
       "</div>"
      ],
      "text/plain": [
       "          x           y          z             feature_name  cell_id  \\\n",
       "0  4.395842  328.666473  12.019493                   SEC11C      565   \n",
       "1  5.074415  236.964844   7.608510  NegControlCodeword_0502      540   \n",
       "2  4.702023  322.797150  12.289083                   SEC11C      562   \n",
       "3  4.906601  581.428650  11.222615                    DAPK3      271   \n",
       "4  5.660699  720.851746   9.265523                     TCIM      291   \n",
       "5  5.899098  748.592773   9.818688                     TCIM      297   \n",
       "6  6.249354  219.854141  10.271250                     NKG7      536   \n",
       "7  7.776000  878.157532  12.464459                  RAPGEF3     1089   \n",
       "8  6.397148  232.495712   7.837698                    PPARG      540   \n",
       "9  6.493312  211.362808  10.820307                  RAPGEF3      532   \n",
       "\n",
       "   overlaps_nucleus    transcript_id         qv  \n",
       "0                 0  281474976710656  18.662479  \n",
       "1                 0  281474976710657  18.634956  \n",
       "2                 0  281474976710658  18.662479  \n",
       "3                 0  281474976710659  20.821745  \n",
       "4                 0  281474976710660  18.017488  \n",
       "5                 0  281474976710661  18.017488  \n",
       "6                 0  281474976710662  40.000000  \n",
       "7                 0  281474976710663  20.488186  \n",
       "8                 0  281474976710664  35.338028  \n",
       "9                 0  281474976710665  40.000000  "
      ]
     },
     "execution_count": 33,
     "metadata": {},
     "output_type": "execute_result"
    }
   ],
   "source": [
    "df = sdata.points['transcripts'].head(10)\n",
    "df"
   ]
  },
  {
   "cell_type": "code",
   "execution_count": 45,
   "metadata": {},
   "outputs": [],
   "source": [
    "MORTON_CODE_NUM_BITS = 32 # Resulting morton codes will be stored as uint32.\n",
    "MORTON_CODE_VALUE_MIN = 0\n",
    "MORTON_CODE_VALUE_MAX = 2**(MORTON_CODE_NUM_BITS/2) - 1"
   ]
  },
  {
   "cell_type": "code",
   "execution_count": 46,
   "metadata": {},
   "outputs": [
    {
     "data": {
      "text/plain": [
       "65535.0"
      ]
     },
     "execution_count": 46,
     "metadata": {},
     "output_type": "execute_result"
    }
   ],
   "source": [
    "MORTON_CODE_VALUE_MAX"
   ]
  },
  {
   "cell_type": "code",
   "execution_count": 80,
   "metadata": {},
   "outputs": [],
   "source": [
    "def norm_series_to_uint(series, v_min, v_max):\n",
    "    \"\"\"\n",
    "    Scale numeric Series (int or float) to integer grid [0, 2^bits-1], handling NaNs.\n",
    "    \"\"\"\n",
    "    # Cast to float64\n",
    "    series_f64 = series.astype(\"float64\")\n",
    "    # Normalize the array values to be between 0.0 and 1.0\n",
    "    norm_series_f64 = (series_f64 - v_min) / (v_max - v_min)\n",
    "    # Clip to ensure no values are outside 0/1 range\n",
    "    clipped_norm_series_f64 = np.clip(norm_series_f64, 0.0, 1.0)\n",
    "    # Multiply by the morton code max-value to scale from [0,1] to [0,65535]\n",
    "    out = (clipped_norm_series_f64 * MORTON_CODE_VALUE_MAX).astype(np.uint32)\n",
    "    # Set NaNs to 0.\n",
    "    out = out.fillna(0)\n",
    "    return out"
   ]
  },
  {
   "cell_type": "code",
   "execution_count": 81,
   "metadata": {},
   "outputs": [],
   "source": [
    "def norm_ddf_to_uint(ddf):\n",
    "    [x_min, x_max, y_min, y_max] = [ddf[\"x\"].min().compute(), ddf[\"x\"].max().compute(), ddf[\"y\"].min().compute(), ddf[\"y\"].max().compute()]\n",
    "    ddf[\"x_uint\"] = norm_series_to_uint(ddf[\"x\"], x_min, x_max)\n",
    "    ddf[\"y_uint\"] = norm_series_to_uint(ddf[\"y\"], y_min, y_max)\n",
    "    return ddf"
   ]
  },
  {
   "cell_type": "code",
   "execution_count": 126,
   "metadata": {},
   "outputs": [],
   "source": [
    "def _part1by1_16(x):\n",
    "    \"\"\"\n",
    "    Spread each 16-bit value into 32 bits by inserting zeros between bits.\n",
    "    Input:  uint32 array (values must fit in 16 bits)\n",
    "    Output: uint32 array (bit-spread)\n",
    "    \"\"\"\n",
    "        \n",
    "    assert x.dtype.name == 'uint32'\n",
    "    \n",
    "    # Mask away any bits above 16 (just in case input wasn't clean).\n",
    "    x = x & np.uint32(0x0000FFFF)\n",
    "    \n",
    "    # First spread: shift left by 8 bits, OR with original, then mask.\n",
    "    # After this, groups of 8 bits are separated by 8 zeros.\n",
    "    # x = (x | (x << 8)) & np.uint32(0x00FF00FF)\n",
    "    x = (x | np.left_shift(x, 8)) & np.uint32(0x00FF00FF)\n",
    "    \n",
    "    # Spread further: now groups of 4 bits separated by 4 zeros.\n",
    "    x = (x | np.left_shift(x, 4)) & np.uint32(0x0F0F0F0F)\n",
    "    \n",
    "    # Spread further: groups of 2 bits separated by 2 zeros.\n",
    "    x = (x | np.left_shift(x, 2)) & np.uint32(0x33333333)\n",
    "    \n",
    "    # Final spread: single bits separated by a zero bit.\n",
    "    # Now each original bit is in every other position (positions 0,2,4,...).\n",
    "    x = (x | np.left_shift(x, 1)) & np.uint32(0x55555555)\n",
    "    \n",
    "    return x\n",
    "\n",
    "\"\"\"\n",
    "def _part1by1_32(u32):\n",
    "    #Spread each 32-bit value into 64 bits by inserting zeros between bits.\n",
    "    #Input:  uint64 array (values must fit in 32 bits)\n",
    "    #Output: uint64 array (bit-spread)\n",
    "\n",
    "    # Mask away any bits above 32 (safety).\n",
    "    x = u32.astype(np.uint64) & np.uint64(0x00000000FFFFFFFF)\n",
    "    \n",
    "    # First spread: separate into 16-bit chunks spaced out.\n",
    "    x = (x | (x << 16)) & np.uint64(0x0000FFFF0000FFFF)\n",
    "    \n",
    "    # Spread further: each 8-bit chunk separated.\n",
    "    x = (x | (x << 8)) & np.uint64(0x00FF00FF00FF00FF)\n",
    "    \n",
    "    # Spread further: each 4-bit nibble separated.\n",
    "    x = (x | (x << 4)) & np.uint64(0x0F0F0F0F0F0F0F0F)\n",
    "    \n",
    "    # Spread further: 2-bit groups separated.\n",
    "    x = (x | (x << 2)) & np.uint64(0x3333333333333333)\n",
    "    \n",
    "    # Final spread: single bits separated by zeros.\n",
    "    # Now each original bit occupies every other position (0,2,4,...).\n",
    "    x = (x | (x << 1)) & np.uint64(0x5555555555555555)\n",
    "    \n",
    "    return x\n",
    "\"\"\"\n",
    "\n",
    "def morton_interleave(ddf):\n",
    "    \"\"\"\n",
    "    Vectorized Morton interleave for integer arrays xi, yi\n",
    "    already scaled to [0, 2^bits - 1].\n",
    "    Returns Morton codes as uint32 (if bits<=16) or uint64 (if bits<=32).\n",
    "    \"\"\"\n",
    "    \n",
    "    xi = ddf[\"x_uint\"]\n",
    "    yi = ddf[\"y_uint\"]\n",
    "    \n",
    "    # Spread x and y bits into even (x) and odd (y) positions.\n",
    "    xs = _part1by1_16(xi)\n",
    "    ys = _part1by1_16(yi)\n",
    "\n",
    "    # Interleave: shift y bits left by 1 so they go into odd positions,\n",
    "    # then OR with x bits in even positions.\n",
    "    code = np.left_shift(ys.astype(np.uint64), 1) | xs.astype(np.uint64)\n",
    "        \n",
    "    # Fits in 32 bits since we only had 16+16 input bits.\n",
    "    return code.astype(np.uint32)\n",
    "\n",
    "def sdata_morton_sort_points(sdata, element):\n",
    "    ddf = sdata.points[element]\n",
    "    \n",
    "    # Compute morton codes\n",
    "    ddf = norm_ddf_to_uint(ddf)\n",
    "    ddf[\"morton_code_2d\"] = morton_interleave(ddf)\n",
    "    \n",
    "    if \"z\" in ddf.columns:\n",
    "        # TODO: include z and transcript_id as dimensions in the morton code?\n",
    "        sorted_ddf = ddf.sort_values(by=[\"z\", \"morton_code_2d\"], ascending=True)\n",
    "    else:\n",
    "        sorted_ddf = ddf.sort_values(by=\"morton_code_2d\", ascending=True)\n",
    "    sdata.points[element] = sorted_ddf\n",
    "        \n",
    "    # Sort any annotating table(s) as well.\n",
    "    annotating_tables = get_element_annotators(sdata, element)\n",
    "    \n",
    "    return sdata\n",
    "    "
   ]
  },
  {
   "cell_type": "code",
   "execution_count": null,
   "metadata": {},
   "outputs": [],
   "source": [
    "sdata_morton_sort_points(sdata, \"transcripts\")"
   ]
  },
  {
   "cell_type": "code",
   "execution_count": null,
   "metadata": {},
   "outputs": [],
   "source": []
  },
  {
   "cell_type": "code",
   "execution_count": null,
   "metadata": {},
   "outputs": [],
   "source": [
    "sdata.points[\"transcripts\"]"
   ]
  },
  {
   "cell_type": "code",
   "execution_count": 122,
   "metadata": {},
   "outputs": [
    {
     "data": {
      "text/plain": [
       "set()"
      ]
     },
     "execution_count": 122,
     "metadata": {},
     "output_type": "execute_result"
    }
   ],
   "source": [
    "get_element_annotators(sdata, \"transcripts\")"
   ]
  },
  {
   "cell_type": "code",
   "execution_count": 79,
   "metadata": {},
   "outputs": [
    {
     "data": {
      "text/plain": [
       "0          3885\n",
       "1          2786\n",
       "2          3815\n",
       "3          6914\n",
       "4          8584\n",
       "          ...  \n",
       "638078    63402\n",
       "638079    57379\n",
       "638080    64958\n",
       "638081    57940\n",
       "638082    56730\n",
       "Name: y_uint, Length: 42638083, dtype: uint64"
      ]
     },
     "execution_count": 79,
     "metadata": {},
     "output_type": "execute_result"
    }
   ],
   "source": [
    "ddf[\"y_uint\"].compute()"
   ]
  },
  {
   "cell_type": "code",
   "execution_count": 25,
   "metadata": {},
   "outputs": [
    {
     "data": {
      "text/html": [
       "<div><strong>Dask DataFrame Structure:</strong></div>\n",
       "<div>\n",
       "<style scoped>\n",
       "    .dataframe tbody tr th:only-of-type {\n",
       "        vertical-align: middle;\n",
       "    }\n",
       "\n",
       "    .dataframe tbody tr th {\n",
       "        vertical-align: top;\n",
       "    }\n",
       "\n",
       "    .dataframe thead th {\n",
       "        text-align: right;\n",
       "    }\n",
       "</style>\n",
       "<table border=\"1\" class=\"dataframe\">\n",
       "  <thead>\n",
       "    <tr style=\"text-align: right;\">\n",
       "      <th></th>\n",
       "      <th>x</th>\n",
       "      <th>y</th>\n",
       "      <th>z</th>\n",
       "      <th>feature_name</th>\n",
       "      <th>cell_id</th>\n",
       "      <th>overlaps_nucleus</th>\n",
       "      <th>transcript_id</th>\n",
       "      <th>qv</th>\n",
       "    </tr>\n",
       "    <tr>\n",
       "      <th>npartitions=8</th>\n",
       "      <th></th>\n",
       "      <th></th>\n",
       "      <th></th>\n",
       "      <th></th>\n",
       "      <th></th>\n",
       "      <th></th>\n",
       "      <th></th>\n",
       "      <th></th>\n",
       "    </tr>\n",
       "  </thead>\n",
       "  <tbody>\n",
       "    <tr>\n",
       "      <th></th>\n",
       "      <td>float32</td>\n",
       "      <td>float32</td>\n",
       "      <td>float32</td>\n",
       "      <td>category[unknown]</td>\n",
       "      <td>int32</td>\n",
       "      <td>uint8</td>\n",
       "      <td>uint64</td>\n",
       "      <td>float32</td>\n",
       "    </tr>\n",
       "    <tr>\n",
       "      <th></th>\n",
       "      <td>...</td>\n",
       "      <td>...</td>\n",
       "      <td>...</td>\n",
       "      <td>...</td>\n",
       "      <td>...</td>\n",
       "      <td>...</td>\n",
       "      <td>...</td>\n",
       "      <td>...</td>\n",
       "    </tr>\n",
       "    <tr>\n",
       "      <th>...</th>\n",
       "      <td>...</td>\n",
       "      <td>...</td>\n",
       "      <td>...</td>\n",
       "      <td>...</td>\n",
       "      <td>...</td>\n",
       "      <td>...</td>\n",
       "      <td>...</td>\n",
       "      <td>...</td>\n",
       "    </tr>\n",
       "    <tr>\n",
       "      <th></th>\n",
       "      <td>...</td>\n",
       "      <td>...</td>\n",
       "      <td>...</td>\n",
       "      <td>...</td>\n",
       "      <td>...</td>\n",
       "      <td>...</td>\n",
       "      <td>...</td>\n",
       "      <td>...</td>\n",
       "    </tr>\n",
       "    <tr>\n",
       "      <th></th>\n",
       "      <td>...</td>\n",
       "      <td>...</td>\n",
       "      <td>...</td>\n",
       "      <td>...</td>\n",
       "      <td>...</td>\n",
       "      <td>...</td>\n",
       "      <td>...</td>\n",
       "      <td>...</td>\n",
       "    </tr>\n",
       "  </tbody>\n",
       "</table>\n",
       "</div>\n",
       "<div>Dask Name: read-parquet, 1 graph layer</div>"
      ],
      "text/plain": [
       "Dask DataFrame Structure:\n",
       "                     x        y        z       feature_name cell_id overlaps_nucleus transcript_id       qv\n",
       "npartitions=8                                                                                              \n",
       "               float32  float32  float32  category[unknown]   int32            uint8        uint64  float32\n",
       "                   ...      ...      ...                ...     ...              ...           ...      ...\n",
       "...                ...      ...      ...                ...     ...              ...           ...      ...\n",
       "                   ...      ...      ...                ...     ...              ...           ...      ...\n",
       "                   ...      ...      ...                ...     ...              ...           ...      ...\n",
       "Dask Name: read-parquet, 1 graph layer"
      ]
     },
     "execution_count": 25,
     "metadata": {},
     "output_type": "execute_result"
    }
   ],
   "source": [
    "sdata.points['transcripts']"
   ]
  },
  {
   "cell_type": "markdown",
   "metadata": {},
   "source": [
    "## Configure Vitessce\n",
    "\n",
    "Vitessce needs to know which pieces of data we are interested in visualizing, the visualization types we would like to use, and how we want to coordinate (or link) the views."
   ]
  },
  {
   "cell_type": "code",
   "execution_count": null,
   "metadata": {},
   "outputs": [],
   "source": [
    "vc = VitessceConfig(\n",
    "    schema_version=\"1.0.18\",\n",
    "    name='MERFISH SpatialData Demo',\n",
    ")\n",
    "# Add data to the configuration:\n",
    "wrapper = SpatialDataWrapper(\n",
    "    sdata_path=spatialdata_filepath,\n",
    "    # The following paths are relative to the root of the SpatialData zarr store on-disk.\n",
    "    image_path=\"images/rasterized\",\n",
    "    table_path=\"tables/table\",\n",
    "    obs_feature_matrix_path=\"tables/table/X\",\n",
    "    obs_spots_path=\"shapes/cells\",\n",
    "    coordinate_system=\"global\",\n",
    "    coordination_values={\n",
    "        # The following tells Vitessce to consider each observation as a \"spot\"\n",
    "        \"obsType\": \"cell\",\n",
    "    }\n",
    ")\n",
    "dataset = vc.add_dataset(name='MERFISH').add_object(wrapper)\n",
    "\n",
    "# Add views (visualizations) to the configuration:\n",
    "spatial = vc.add_view(\"spatialBeta\", dataset=dataset)\n",
    "feature_list = vc.add_view(\"featureList\", dataset=dataset)\n",
    "layer_controller = vc.add_view(\"layerControllerBeta\", dataset=dataset)\n",
    "obs_sets = vc.add_view(\"obsSets\", dataset=dataset)\n",
    "\n",
    "vc.link_views_by_dict([spatial, layer_controller], {\n",
    "    'spotLayer': CL([{\n",
    "        'obsType': 'cell',\n",
    "    }]),\n",
    "}, scope_prefix=get_initial_coordination_scope_prefix(\"A\", \"obsSpots\"))\n",
    "\n",
    "vc.link_views([spatial, layer_controller, feature_list, obs_sets], ['obsType'], [wrapper.obs_type_label])\n",
    "\n",
    "# Layout the views\n",
    "vc.layout(spatial | (feature_list / layer_controller / obs_sets));"
   ]
  },
  {
   "cell_type": "markdown",
   "metadata": {},
   "source": [
    "### Render the widget"
   ]
  },
  {
   "cell_type": "code",
   "execution_count": null,
   "metadata": {},
   "outputs": [],
   "source": [
    "vw = vc.widget()\n",
    "vw"
   ]
  },
  {
   "cell_type": "code",
   "execution_count": null,
   "metadata": {},
   "outputs": [],
   "source": []
  }
 ],
 "metadata": {
  "kernelspec": {
   "display_name": "Python 3 (ipykernel)",
   "language": "python",
   "name": "python3"
  },
  "language_info": {
   "codemirror_mode": {
    "name": "ipython",
    "version": 3
   },
   "file_extension": ".py",
   "mimetype": "text/x-python",
   "name": "python",
   "nbconvert_exporter": "python",
   "pygments_lexer": "ipython3",
   "version": "3.10.14"
  }
 },
 "nbformat": 4,
 "nbformat_minor": 4
}
