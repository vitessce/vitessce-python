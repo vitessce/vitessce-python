{
 "cells": [
  {
   "cell_type": "code",
   "execution_count": null,
   "id": "bkHC",
   "metadata": {},
   "outputs": [],
   "source": [
    "from vitessce import (\n",
    "    VitessceConfig,\n",
    "    Component as cm,\n",
    "    CoordinationType as ct,\n",
    "    AnnDataWrapper,\n",
    "    CsvWrapper,\n",
    ")\n",
    "from oxc_py import transform"
   ]
  },
  {
   "cell_type": "code",
   "execution_count": null,
   "id": "PKri",
   "metadata": {},
   "outputs": [],
   "source": [
    "url = 'https://storage.googleapis.com/vitessce-demo-data/anndata-test/pbmc3k_processed.zarr'"
   ]
  },
  {
   "cell_type": "code",
   "execution_count": null,
   "id": "emfo",
   "metadata": {},
   "outputs": [],
   "source": [
    "import marimo as mo"
   ]
  },
  {
   "cell_type": "code",
   "execution_count": null,
   "id": "BYtC",
   "metadata": {},
   "outputs": [],
   "source": [
    "PAGE_ESM = transform(\"\"\"\n",
    "function createPage(utilsForPages) {\n",
    "  const {\n",
    "    React,\n",
    "    usePageModeView,\n",
    "  } = utilsForPages;\n",
    "  function PageComponent(props) {\n",
    "    const ScatterplotUmap = usePageModeView('scatterplot-umap');\n",
    "    const ScatterplotPca = usePageModeView('scatterplot-pca');\n",
    "    const CellSets = usePageModeView('cell-sets');\n",
    "    const GeneList = usePageModeView('gene-list');\n",
    "    const Heatmap = usePageModeView('heatmap');\n",
    "\n",
    "    return (\n",
    "        <>\n",
    "          <style>{`\n",
    "          h1, h2, h3, h4, h5, h6 {\n",
    "            font-family: sans-serif;\n",
    "          }\n",
    "          h3 {\n",
    "            font-size: 20px;\n",
    "          }\n",
    "          .fancy-heading {\n",
    "              text-shadow: 1px 1px 2px pink;\n",
    "          }\n",
    "          `}\n",
    "          </style>\n",
    "          <div style={{ width: '100%', display: 'flex', flexDirection: 'row', background: 'lightblue' }}>\n",
    "            <div style={{ width: '80%'}}>\n",
    "              <h3 style={{ fontFamily: 'Courier New' }} className=\"fancy-heading\">This is an arbitrary HTML element with custom CSS</h3>\n",
    "              <div style={{ width: '100%', height: '400px', display: 'flex', flexDirection: 'row' }}>\n",
    "                <div style={{ width: '45%' }}>\n",
    "                  <ScatterplotUmap />\n",
    "                </div>\n",
    "                <div style={{ width: '45%', marginLeft: '5%' }}>\n",
    "                  <ScatterplotPca />\n",
    "                </div>\n",
    "              </div>\n",
    "              <h3>Another HTML element</h3>\n",
    "              <div style={{ width: '95%', height: '500px' }}>\n",
    "                <Heatmap />\n",
    "              </div>\n",
    "            </div>\n",
    "            <div style={{ width: '20%', height: '520px' }}>\n",
    "              <CellSets />\n",
    "              <GeneList />\n",
    "            </div>\n",
    "          </div>\n",
    "\n",
    "        </>\n",
    "      );\n",
    "  }\n",
    "  return PageComponent;\n",
    "}\n",
    "export default { createPage };\n",
    "\"\"\")"
   ]
  },
  {
   "cell_type": "code",
   "execution_count": null,
   "id": "Xref",
   "metadata": {},
   "outputs": [],
   "source": [
    "vc = VitessceConfig(schema_version=\"1.0.17\", name='PBMC Reference')\n",
    "dataset = vc.add_dataset(name='PBMC 3k').add_object(\n",
    "    AnnDataWrapper(\n",
    "        adata_url=url,\n",
    "        obs_set_paths=[\"obs/louvain\"],\n",
    "        obs_set_names=[\"Louvain\"],\n",
    "        obs_embedding_paths=[\"obsm/X_umap\", \"obsm/X_pca\"],\n",
    "        obs_embedding_names=[\"UMAP\", \"PCA\"],\n",
    "        obs_feature_matrix_path=\"X\"\n",
    "    )\n",
    ")\n",
    "\n",
    "umap = vc.add_view(cm.SCATTERPLOT, dataset=dataset, mapping=\"UMAP\", uid=\"scatterplot-umap\")\n",
    "pca = vc.add_view(cm.SCATTERPLOT, dataset=dataset, mapping=\"PCA\", uid=\"scatterplot-pca\")\n",
    "cell_sets = vc.add_view(cm.OBS_SETS, dataset=dataset, uid=\"cell-sets\")\n",
    "genes = vc.add_view(cm.FEATURE_LIST, dataset=dataset, uid=\"gene-list\")\n",
    "heatmap = vc.add_view(cm.HEATMAP, dataset=dataset, uid=\"heatmap\")\n",
    "\n",
    "vc.layout((umap / pca) | ((cell_sets | genes) / heatmap));"
   ]
  },
  {
   "cell_type": "markdown",
   "id": "lEQa",
   "metadata": {},
   "source": [
    "## Configure the data and views"
   ]
  },
  {
   "cell_type": "markdown",
   "id": "MJUe",
   "metadata": {},
   "source": [
    "# Page mode example"
   ]
  },
  {
   "cell_type": "markdown",
   "id": "SFPL",
   "metadata": {},
   "source": [
    "## Define the page layout"
   ]
  },
  {
   "cell_type": "markdown",
   "id": "Hbol",
   "metadata": {},
   "source": [
    "# Vitessce Widget Tutorial"
   ]
  },
  {
   "cell_type": "markdown",
   "id": "vblA",
   "metadata": {},
   "source": [
    "## Configure Vitessce"
   ]
  },
  {
   "cell_type": "markdown",
   "id": "RGSE",
   "metadata": {},
   "source": [
    "## Render page as widget"
   ]
  },
  {
   "cell_type": "code",
   "execution_count": null,
   "id": "Kclp",
   "metadata": {},
   "outputs": [],
   "source": [
    "vw = vc.widget(page_esm=PAGE_ESM, page_mode=True, height=1100)\n",
    "vw"
   ]
  }
 ],
 "metadata": {},
 "nbformat": 4,
 "nbformat_minor": 5
}
