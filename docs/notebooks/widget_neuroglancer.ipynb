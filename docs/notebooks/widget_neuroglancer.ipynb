{
 "cells": [
  {
   "cell_type": "markdown",
   "metadata": {
    "nbsphinx": "hidden"
   },
   "source": [
    "# Vitessce Widget Tutorial"
   ]
  },
  {
   "cell_type": "markdown",
   "metadata": {},
   "source": [
    "# Example usage of Neuroglancer view"
   ]
  },
  {
   "cell_type": "code",
   "execution_count": null,
   "metadata": {},
   "outputs": [],
   "source": [
    "from vitessce import (\n",
    "    VitessceConfig,\n",
    "    Component as cm,\n",
    "    CoordinationType as ct,\n",
    "    ImageOmeTiffWrapper,\n",
    "    CsvWrapper,\n",
    "    hconcat,\n",
    "    vconcat,\n",
    "    get_initial_coordination_scope_prefix,\n",
    "    CoordinationLevel as CL\n",
    ")\n",
    "from os.path import join"
   ]
  },
  {
   "cell_type": "markdown",
   "metadata": {},
   "source": [
    "## 1. Configure Vitessce"
   ]
  },
  {
   "cell_type": "code",
   "execution_count": null,
   "metadata": {},
   "outputs": [],
   "source": [
    "vc = VitessceConfig(schema_version=\"1.0.17\")\n",
    "dataset = vc.add_dataset(name='Meshes').add_object(\n",
    "    ImageOmeTiffWrapper(\n",
    "        img_url='https://lsp-public-data.s3.amazonaws.com/yapp-2023-3d-melanoma/Dataset1-LSP13626-invasive-margin.ome.tiff',\n",
    "        offsets_url='https://lsp-public-data.s3.amazonaws.com/yapp-2023-3d-melanoma/Dataset1-LSP13626-invasive-margin.offsets.json',\n",
    "        coordination_values={\n",
    "          \"fileUid\": 'melanoma',\n",
    "        },\n",
    "    )\n",
    ").add_object(\n",
    "    CsvWrapper(\n",
    "        data_type=\"obsEmbedding\",\n",
    "        csv_url='https://storage.googleapis.com/vitessce-demo-data/neuroglancer-march-2025/melanoma_with_embedding_filtered_ids.csv',\n",
    "        options= {\n",
    "          \"obsIndex\": 'id',\n",
    "          \"obsEmbedding\": ['tSNE1', 'tSNE2'],\n",
    "        },\n",
    "        coordination_values= {\n",
    "          \"obsType\": 'cell',\n",
    "          \"embeddingType\": 'TSNE',\n",
    "        },\n",
    "    )\n",
    ").add_object(\n",
    "    CsvWrapper(\n",
    "        data_type=\"obsSets\",\n",
    "        csv_url='https://storage.googleapis.com/vitessce-demo-data/neuroglancer-march-2025/melanoma_with_embedding_filtered_ids.csv',\n",
    "        coordination_values={\n",
    "          \"obsType\": 'cell',\n",
    "        },\n",
    "        options= {\n",
    "          \"obsIndex\": 'id',\n",
    "          \"obsSets\": [\n",
    "            {\n",
    "              \"name\": 'Clusters',\n",
    "              \"column\": 'cluster',\n",
    "            },\n",
    "          ],\n",
    "        },\n",
    "    )\n",
    ")\n",
    "spatialThreeView = vc.add_view('spatialBeta', dataset=dataset);\n",
    "lcView = vc.add_view('layerControllerBeta', dataset=dataset);\n",
    "obsSets = vc.add_view('obsSets', dataset=dataset);\n",
    "scatterView = vc.add_view('scatterplot', dataset=dataset, mapping=\"TSNE\");\n",
    "# Configuration via props.viewerState is temporary and subject to change.\n",
    "neuroglancerView = vc.add_view('neuroglancer', dataset=dataset).set_props(viewerState={\n",
    "    \"dimensions\": {\n",
    "      \"x\": [\n",
    "        1e-9,\n",
    "        \"m\"\n",
    "      ],\n",
    "      \"y\": [\n",
    "        1e-9,\n",
    "        \"m\"\n",
    "      ],\n",
    "      \"z\": [\n",
    "        1e-9,\n",
    "        \"m\"\n",
    "      ]\n",
    "    },\n",
    "    \"position\": [\n",
    "      49.5,\n",
    "      1000.5,\n",
    "      5209.5\n",
    "    ],\n",
    "    \"crossSectionScale\": 1,\n",
    "    \"projectionOrientation\": [\n",
    "      -0.636204183101654,\n",
    "      -0.5028395652770996,\n",
    "      0.5443811416625977,\n",
    "      0.2145828753709793\n",
    "    ],\n",
    "    \"projectionScale\": 1024,\n",
    "    \"layers\": [\n",
    "      {\n",
    "        \"type\": \"segmentation\",\n",
    "        \"source\": \"precomputed://https://vitessce-data-v2.s3.us-east-1.amazonaws.com/data/sorger/invasive_meshes\",\n",
    "        \"segments\": [\n",
    "          \"5\"\n",
    "        ],\n",
    "        \"segmentColors\": {\n",
    "          \"5\": \"red\"\n",
    "        },\n",
    "        \"name\": \"segmentation\"\n",
    "      }\n",
    "    ],\n",
    "    \"showSlices\": False,\n",
    "    \"layout\": \"3d\"\n",
    "});\n",
    "\n",
    "vc.link_views([scatterView], ['embeddingObsRadiusMode', 'embeddingObsRadius'], ['manual', 4]);\n",
    "\n",
    "# Sync the zoom/rotation/pan states\n",
    "vc.link_views_by_dict([spatialThreeView, lcView, neuroglancerView], {\n",
    "    \"spatialRenderingMode\": '3D',\n",
    "    \"spatialZoom\": 0,\n",
    "    \"spatialTargetT\": 0,\n",
    "    \"spatialTargetX\": 0,\n",
    "    \"spatialTargetY\": 0,\n",
    "    \"spatialTargetZ\": 0,\n",
    "    \"spatialRotationX\": 0,\n",
    "    \"spatialRotationY\": 0,\n",
    "}, meta=False);\n",
    "\n",
    "# Initialize the image properties\n",
    "vc.link_views_by_dict([spatialThreeView, lcView], {\n",
    "    \"imageLayer\": CL([\n",
    "      {\n",
    "        \"fileUid\": 'melanoma',\n",
    "        \"spatialLayerOpacity\": 1,\n",
    "        \"spatialTargetResolution\": None,\n",
    "        \"imageChannel\": CL([\n",
    "          {\n",
    "            \"spatialTargetC\": 0,\n",
    "            \"spatialChannelColor\": [255, 0, 0],\n",
    "            \"spatialChannelVisible\": True,\n",
    "            \"spatialChannelOpacity\": 1.0,\n",
    "          },\n",
    "        ]),\n",
    "      },\n",
    "    ]),\n",
    "}, scope_prefix=get_initial_coordination_scope_prefix('A', 'image'));\n",
    "\n",
    "\n",
    "vc.layout(hconcat(neuroglancerView, spatialThreeView, vconcat(lcView, obsSets, scatterView)));"
   ]
  },
  {
   "cell_type": "markdown",
   "metadata": {},
   "source": [
    "## 2. Create the Vitessce widget"
   ]
  },
  {
   "cell_type": "code",
   "execution_count": null,
   "metadata": {},
   "outputs": [],
   "source": [
    "vw = vc.widget(custom_js_url=\"http://localhost:3003/packages/main/prod/dist/index.min.js\")\n",
    "vw"
   ]
  },
  {
   "cell_type": "code",
   "execution_count": null,
   "metadata": {},
   "outputs": [],
   "source": []
  },
  {
   "cell_type": "code",
   "execution_count": null,
   "metadata": {},
   "outputs": [],
   "source": []
  },
  {
   "cell_type": "code",
   "execution_count": null,
   "metadata": {},
   "outputs": [],
   "source": []
  }
 ],
 "metadata": {
  "kernelspec": {
   "display_name": "Python 3 (ipykernel)",
   "language": "python",
   "name": "python3"
  },
  "language_info": {
   "codemirror_mode": {
    "name": "ipython",
    "version": 3
   },
   "file_extension": ".py",
   "mimetype": "text/x-python",
   "name": "python",
   "nbconvert_exporter": "python",
   "pygments_lexer": "ipython3",
   "version": "3.10.14"
  }
 },
 "nbformat": 4,
 "nbformat_minor": 4
}
