{
 "cells": [
  {
   "cell_type": "code",
   "execution_count": null,
   "id": "bkHC",
   "metadata": {},
   "outputs": [],
   "source": [
    "import scanpy as sc\n",
    "import numpy as np\n",
    "from vitessce.data_utils import rgb_img_to_ome_zarr, VAR_CHUNK_SIZE\n",
    "from vitessce import (\n",
    "    VitessceConfig,\n",
    "    AnnDataWrapper,\n",
    "    ImageOmeZarrWrapper,\n",
    ")\n",
    "from os.path import join"
   ]
  },
  {
   "cell_type": "code",
   "execution_count": null,
   "id": "BYtC",
   "metadata": {},
   "outputs": [],
   "source": [
    "import marimo as mo"
   ]
  },
  {
   "cell_type": "code",
   "execution_count": null,
   "id": "lEQa",
   "metadata": {},
   "outputs": [],
   "source": [
    "output_img = join(\"data\", \"V1_Human_Lymph_Node.ome.zarr\")\n",
    "output_adata = join(\"data\", \"V1_Human_Lymph_Node.anndata.zarr\")"
   ]
  },
  {
   "cell_type": "markdown",
   "id": "Hbol",
   "metadata": {},
   "source": [
    "# Vitessce Widget Tutorial"
   ]
  },
  {
   "cell_type": "markdown",
   "id": "vblA",
   "metadata": {},
   "source": [
    "Note: This approach to storing images within AnnData objects is no longer recommended now that [SpatialData](https://spatialdata.scverse.org/en/stable/) has been introduced."
   ]
  },
  {
   "cell_type": "markdown",
   "id": "MJUe",
   "metadata": {},
   "source": [
    "# Visualization of AnnData object containing an image in `uns`"
   ]
  },
  {
   "cell_type": "code",
   "execution_count": null,
   "id": "PKri",
   "metadata": {},
   "outputs": [],
   "source": [
    "adata = sc.datasets.visium_sge(sample_id=\"V1_Human_Lymph_Node\", include_hires_tiff=True)\n",
    "\n",
    "# Write img_arr to OME-Zarr.\n",
    "# Need to convert images from interleaved to non-interleaved (color axis should be first).\n",
    "img_hires = adata.uns['spatial']['V1_Human_Lymph_Node']['images']['hires']\n",
    "img_arr = np.transpose(img_hires, (2, 0, 1))\n",
    "# Convert values from [0, 1] to [0, 255].\n",
    "img_arr *= 255.0\n",
    "\n",
    "# First, save the image to an OME-Zarr image format\n",
    "rgb_img_to_ome_zarr(img_arr, output_img, axes=\"cyx\", chunks=(1, 256, 256), img_name=\"Image\")\n",
    "# Second, save the AnnData object to Zarr format\n",
    "adata.write_zarr(output_adata, chunks=[adata.shape[0], VAR_CHUNK_SIZE])"
   ]
  },
  {
   "cell_type": "code",
   "execution_count": null,
   "id": "Xref",
   "metadata": {},
   "outputs": [],
   "source": [
    "vc = VitessceConfig(schema_version=\"1.0.17\", name=\"AnnData with image\")\n",
    "dataset = vc.add_dataset(\"My dataset\").add_object(\n",
    "    AnnDataWrapper(\n",
    "        adata_path=output_adata,\n",
    "\n",
    "    )\n",
    ").add_object(\n",
    "    ImageOmeZarrWrapper(\n",
    "        img_path=output_img,\n",
    "    )\n",
    ")\n",
    "\n",
    "spatial_view = vc.add_view(\"spatialBeta\", dataset=dataset)\n",
    "lc_view = vc.add_view(\"layerControllerBeta\", dataset=dataset)\n",
    "\n",
    "vc.layout(spatial_view | lc_view);"
   ]
  },
  {
   "cell_type": "code",
   "execution_count": null,
   "id": "SFPL",
   "metadata": {},
   "outputs": [],
   "source": [
    "vw = vc.widget()\n",
    "vw"
   ]
  }
 ],
 "metadata": {},
 "nbformat": 4,
 "nbformat_minor": 5
}
