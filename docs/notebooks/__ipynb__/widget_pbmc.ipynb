{
 "cells": [
  {
   "cell_type": "code",
   "execution_count": null,
   "id": "bkHC",
   "metadata": {},
   "outputs": [],
   "source": [
    "import os\n",
    "from os.path import join, isfile, isdir\n",
    "from urllib.request import urlretrieve\n",
    "from anndata import read_h5ad\n",
    "import scanpy as sc\n",
    "\n",
    "from vitessce import (\n",
    "    VitessceConfig,\n",
    "    Component as cm,\n",
    "    CoordinationType as ct,\n",
    "    AnnDataWrapper,\n",
    ")\n",
    "from vitessce.data_utils import (\n",
    "    optimize_adata,\n",
    "    VAR_CHUNK_SIZE,\n",
    ")"
   ]
  },
  {
   "cell_type": "code",
   "execution_count": null,
   "id": "iLit",
   "metadata": {},
   "outputs": [],
   "source": [
    "import marimo as mo"
   ]
  },
  {
   "cell_type": "code",
   "execution_count": null,
   "id": "PKri",
   "metadata": {},
   "outputs": [],
   "source": [
    "adata_filepath = join(\"data\", \"pbmc3k_final.h5ad\")\n",
    "if not isfile(adata_filepath):\n",
    "    os.makedirs(\"data\", exist_ok=True)\n",
    "    urlretrieve('https://seurat.nygenome.org/pbmc3k_final.h5ad', adata_filepath)"
   ]
  },
  {
   "cell_type": "markdown",
   "id": "MJUe",
   "metadata": {},
   "source": [
    "# Visualization of 3k PBMC reference"
   ]
  },
  {
   "cell_type": "markdown",
   "id": "vblA",
   "metadata": {},
   "source": [
    "## 1. Import dependencies\n",
    "\n",
    "We need to import the classes and functions that we will be using from the corresponding packages."
   ]
  },
  {
   "cell_type": "markdown",
   "id": "lEQa",
   "metadata": {},
   "source": [
    "## 2. Download the dataset\n",
    "\n",
    "Download `pbmc3k_final.h5ad` from https://seurat.nygenome.org/pbmc3k_final.h5ad"
   ]
  },
  {
   "cell_type": "markdown",
   "id": "BYtC",
   "metadata": {},
   "source": [
    "## 3.1 Save the AnnData object to Zarr"
   ]
  },
  {
   "cell_type": "markdown",
   "id": "Kclp",
   "metadata": {},
   "source": [
    "## 4. Create a Vitessce view config\n",
    "\n",
    "Define the data and views you would like to include in the widget.\n",
    "\n",
    "For more details about how to configure data depending on where the files are located relative to the notebook execution, see https://python-docs.vitessce.io/data_options.html."
   ]
  },
  {
   "cell_type": "markdown",
   "id": "Hstk",
   "metadata": {},
   "source": [
    "## 5. Create the Vitessce widget"
   ]
  },
  {
   "cell_type": "markdown",
   "id": "Xref",
   "metadata": {},
   "source": [
    "## 3. Load the dataset\n",
    "\n",
    "Load the dataset using AnnData's `read_h5ad` function."
   ]
  },
  {
   "cell_type": "markdown",
   "id": "Hbol",
   "metadata": {},
   "source": [
    "# Vitessce Widget Tutorial"
   ]
  },
  {
   "cell_type": "code",
   "execution_count": null,
   "id": "SFPL",
   "metadata": {},
   "outputs": [],
   "source": [
    "adata = read_h5ad(adata_filepath)"
   ]
  },
  {
   "cell_type": "code",
   "execution_count": null,
   "id": "RGSE",
   "metadata": {},
   "outputs": [],
   "source": [
    "zarr_filepath = join('data', 'pbmc3k_final.zarr')\n",
    "if not isdir(zarr_filepath):\n",
    "    adata_1 = optimize_adata(adata, obs_cols=['leiden'], obsm_keys=['X_umap', 'X_pca'], optimize_X=True)\n",
    "    adata_1.write_zarr(zarr_filepath, chunks=[adata_1.shape[0], VAR_CHUNK_SIZE])"
   ]
  },
  {
   "cell_type": "code",
   "execution_count": null,
   "id": "emfo",
   "metadata": {},
   "outputs": [],
   "source": [
    "vc = VitessceConfig(schema_version=\"1.0.15\", name='PBMC Reference')\n",
    "dataset = vc.add_dataset(name='PBMC 3k').add_object(AnnDataWrapper(\n",
    "    adata_store=zarr_filepath,\n",
    "    obs_set_paths=[\"obs/leiden\"],\n",
    "    obs_set_names=[\"Leiden\"],\n",
    "    obs_embedding_paths=[\"obsm/X_umap\", \"obsm/X_pca\"],\n",
    "    obs_embedding_names=[\"UMAP\", \"PCA\"],\n",
    "    obs_feature_matrix_path=\"X\"\n",
    "))\n",
    "\n",
    "umap = vc.add_view(cm.SCATTERPLOT, dataset=dataset, mapping=\"UMAP\")\n",
    "pca = vc.add_view(cm.SCATTERPLOT, dataset=dataset, mapping=\"PCA\")\n",
    "cell_sets = vc.add_view(cm.OBS_SETS, dataset=dataset)\n",
    "genes = vc.add_view(cm.FEATURE_LIST, dataset=dataset)\n",
    "heatmap = vc.add_view(cm.HEATMAP, dataset=dataset)\n",
    "\n",
    "vc.layout((umap / pca) | ((cell_sets | genes) / heatmap));"
   ]
  },
  {
   "cell_type": "code",
   "execution_count": null,
   "id": "nWHF",
   "metadata": {},
   "outputs": [],
   "source": [
    "vw = vc.widget()\n",
    "vw"
   ]
  }
 ],
 "metadata": {},
 "nbformat": 4,
 "nbformat_minor": 5
}
