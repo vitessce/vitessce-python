{
 "cells": [
  {
   "cell_type": "code",
   "execution_count": null,
   "id": "vblA",
   "metadata": {},
   "outputs": [],
   "source": [
    "from vitessce import (\n",
    "    VitessceConfig,\n",
    "    Component as cm,\n",
    "    CoordinationType as ct,\n",
    "    OmeTiffWrapper,\n",
    "    MultiImageWrapper,\n",
    "    CoordinationLevel as CL,\n",
    "    ObsSegmentationsOmeTiffWrapper,\n",
    "    ImageOmeTiffWrapper,\n",
    "    get_initial_coordination_scope_prefix,\n",
    ")\n",
    "import random"
   ]
  },
  {
   "cell_type": "code",
   "execution_count": null,
   "id": "SFPL",
   "metadata": {},
   "outputs": [],
   "source": [
    "import marimo as mo"
   ]
  },
  {
   "cell_type": "code",
   "execution_count": null,
   "id": "bkHC",
   "metadata": {},
   "outputs": [],
   "source": [
    "vc = VitessceConfig(schema_version=\"1.0.16\")\n",
    "dataset = vc.add_dataset(name='Spraggins').add_object(\n",
    "    ImageOmeTiffWrapper(\n",
    "        img_url=\"https://storage.googleapis.com/vitessce-demo-data/kpmp-f2f-march-2023/S-1905-017737/S-1905-017737_PAS_2of2_bf.ome.tif\",\n",
    "        offsets_url=\"https://storage.googleapis.com/vitessce-demo-data/kpmp-f2f-march-2023/S-1905-017737/S-1905-017737_PAS_2of2_bf.offsets.json\"\n",
    "    )\n",
    ").add_object(\n",
    "    ObsSegmentationsOmeTiffWrapper(\n",
    "        img_url=\"https://storage.googleapis.com/vitessce-demo-data/kpmp-f2f-march-2023/S-1905-017737/S-1905-017737_PAS_2of2.ome.tif\",\n",
    "        offsets_url=\"https://storage.googleapis.com/vitessce-demo-data/kpmp-f2f-march-2023/S-1905-017737/S-1905-017737_PAS_2of2.offsets.json\",\n",
    "        obs_types_from_channel_names=True\n",
    "    )\n",
    ")\n",
    "\n",
    "spatial = vc.add_view(\"spatialBeta\", dataset=dataset)\n",
    "lc = vc.add_view(\"layerControllerBeta\", dataset=dataset)\n",
    "\n",
    "vc.link_views_by_dict([spatial, lc], {\n",
    "    \"imageLayer\": CL([\n",
    "        {\n",
    "          \"photometricInterpretation\": \"RGB\"\n",
    "        }\n",
    "    ]),\n",
    "}, meta=True, scope_prefix=get_initial_coordination_scope_prefix(\"A\", \"image\"))\n",
    "\n",
    "vc.layout(spatial | lc);"
   ]
  },
  {
   "cell_type": "markdown",
   "id": "Hbol",
   "metadata": {},
   "source": [
    "# Vitessce Widget Tutorial"
   ]
  },
  {
   "cell_type": "markdown",
   "id": "MJUe",
   "metadata": {},
   "source": [
    "# Programmatic modification of widget configuration"
   ]
  },
  {
   "cell_type": "code",
   "execution_count": null,
   "id": "lEQa",
   "metadata": {},
   "outputs": [],
   "source": [
    "vw = vc.widget(remount_on_uid_change=False)\n",
    "vw"
   ]
  },
  {
   "cell_type": "code",
   "execution_count": null,
   "id": "Xref",
   "metadata": {},
   "outputs": [],
   "source": [
    "# Programatically set a different zoom level and toggle the visibility/color of different segmentation layers:\n",
    "vw.config = {\n",
    "    **vw.config,\n",
    "    # Need to provide a fresh \"uid\" value.\n",
    "    # This will tell Vitessce that the contents should be diff-ed against the previous config.\n",
    "    \"uid\": f\"new_config_{random.random()}\",\n",
    "    \"coordinationSpace\": {\n",
    "      # Information about the coordination space can be found at https://vitessce.io/docs/coordination-types/\n",
    "      **vw.config[\"coordinationSpace\"],\n",
    "      \"spatialZoom\": {\n",
    "          **vw.config[\"coordinationSpace\"][\"spatialZoom\"],\n",
    "          \"A\": -8\n",
    "      },\n",
    "      \"spatialChannelVisible\": {\n",
    "          **vw.config[\"coordinationSpace\"][\"spatialChannelVisible\"],\n",
    "          \"init_A_obsSegmentations_0\": True,\n",
    "          \"init_A_obsSegmentations_1\": False,\n",
    "          \"init_A_obsSegmentations_2\": False,\n",
    "          \"init_A_obsSegmentations_3\": False\n",
    "      },\n",
    "      \"spatialChannelColor\": {\n",
    "          **vw.config[\"coordinationSpace\"][\"spatialChannelColor\"],\n",
    "          \"init_A_obsSegmentations_0\": [255, 0, 0],\n",
    "      }\n",
    "  }\n",
    "}"
   ]
  },
  {
   "cell_type": "code",
   "execution_count": null,
   "id": "PKri",
   "metadata": {},
   "outputs": [],
   "source": [
    "# Inspect the current configuration value.\n",
    "# This is a dict in the JSON-based format https://vitessce.io/docs/view-config-json/\n",
    "vw.config"
   ]
  }
 ],
 "metadata": {},
 "nbformat": 4,
 "nbformat_minor": 5
}
