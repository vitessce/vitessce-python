{
 "cells": [
  {
   "cell_type": "code",
   "execution_count": null,
   "id": "vblA",
   "metadata": {},
   "outputs": [],
   "source": [
    "from vitessce import (\n",
    "    VitessceConfig,\n",
    "    Component as cm,\n",
    "    CoordinationType as ct,\n",
    "    OmeTiffWrapper,\n",
    "    MultiImageWrapper,\n",
    "    CoordinationLevel as CL,\n",
    ")\n",
    "from os.path import join"
   ]
  },
  {
   "cell_type": "code",
   "execution_count": null,
   "id": "SFPL",
   "metadata": {},
   "outputs": [],
   "source": [
    "import marimo as mo"
   ]
  },
  {
   "cell_type": "code",
   "execution_count": null,
   "id": "lEQa",
   "metadata": {},
   "outputs": [],
   "source": [
    "vc = VitessceConfig(schema_version=\"1.0.16\", name='Spraggins Multi-Modal', description='PAS + IMS + AF From https://portal.hubmapconsortium.org/browse/collection/6a6efd0c1a2681dc7d2faab8e4ab0bca')\n",
    "dataset = vc.add_dataset(name='Spraggins').add_file(\n",
    "    url='https://assets.hubmapconsortium.org/f4188a148e4c759092d19369d310883b/ometiff-pyramids/processedMicroscopy/VAN0006-LK-2-85-PAS_images/VAN0006-LK-2-85-PAS_registered.ome.tif?token=',\n",
    "    file_type=\"image.ome-tiff\",\n",
    "    coordination_values={\n",
    "        \"fileUid\": \"PAS\",\n",
    "    },\n",
    ")\n",
    "\n",
    "imageScopes = vc.add_coordination_by_dict({\n",
    "    \"imageLayer\": CL([\n",
    "      {\n",
    "        \"fileUid\": 'PAS',\n",
    "        \"spatialLayerOpacity\": 1,\n",
    "        \"spatialLayerVisible\": True,\n",
    "        \"photometricInterpretation\": 'RGB',\n",
    "        \"imageChannel\": CL([\n",
    "          {\n",
    "            \"spatialTargetC\": 0,\n",
    "            \"spatialChannelColor\": [255, 0, 0],\n",
    "            \"spatialChannelVisible\": True,\n",
    "            \"spatialChannelOpacity\": 1.0,\n",
    "            \"spatialChannelWindow\": [0, 255],\n",
    "          },\n",
    "          {\n",
    "            \"spatialTargetC\": 1,\n",
    "            \"spatialChannelColor\": [0, 255, 0],\n",
    "            \"spatialChannelVisible\": True,\n",
    "            \"spatialChannelOpacity\": 1.0,\n",
    "            \"spatialChannelWindow\": [0, 255],\n",
    "          },\n",
    "          {\n",
    "            \"spatialTargetC\": 2,\n",
    "            \"spatialChannelColor\": [0, 0, 255],\n",
    "            \"spatialChannelVisible\": True,\n",
    "            \"spatialChannelOpacity\": 1.0,\n",
    "            \"spatialChannelWindow\": [0, 255],\n",
    "          },\n",
    "        ]),\n",
    "      }\n",
    "    ])\n",
    "})\n",
    "\n",
    "metaCoordinationScope = vc.add_meta_coordination()\n",
    "metaCoordinationScope.use_coordination_by_dict(imageScopes)\n",
    "\n",
    "spatial = vc.add_view(\"spatialBeta\", dataset=dataset)\n",
    "lc = vc.add_view(\"layerControllerBeta\", dataset=dataset)\n",
    "\n",
    "spatial.use_meta_coordination(metaCoordinationScope)\n",
    "lc.use_meta_coordination(metaCoordinationScope)\n",
    "\n",
    "vc.layout(spatial | lc);"
   ]
  },
  {
   "cell_type": "markdown",
   "id": "bkHC",
   "metadata": {},
   "source": [
    "## 1. Configure Vitessce\n",
    "Set up the images from the three different assays, with the `use_physical_size_scaling` set to `True` so that the IMS image scales to the other images based on their physical sizes."
   ]
  },
  {
   "cell_type": "markdown",
   "id": "Hbol",
   "metadata": {},
   "source": [
    "# Vitessce Widget Tutorial"
   ]
  },
  {
   "cell_type": "markdown",
   "id": "PKri",
   "metadata": {},
   "source": [
    "## 2. Create the Vitessce widget"
   ]
  },
  {
   "cell_type": "markdown",
   "id": "MJUe",
   "metadata": {},
   "source": [
    "# Visualization of Multi-Modal Imaging Data\n",
    "We visualize IMS, PAS, and AF imaging data overlaid from the Spraggins Lab of the Biomolecular Multimodal Imaging Center (BIOMC) at Vanderbilt University, uploaded to the HuBMAP data portal."
   ]
  },
  {
   "cell_type": "code",
   "execution_count": null,
   "id": "Xref",
   "metadata": {},
   "outputs": [],
   "source": [
    "vw = vc.widget(custom_js_url='http://localhost:8000/packages/main/prod/dist/index.min.js')\n",
    "vw"
   ]
  }
 ],
 "metadata": {},
 "nbformat": 4,
 "nbformat_minor": 5
}
