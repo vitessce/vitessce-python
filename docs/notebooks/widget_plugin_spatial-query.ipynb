{
 "cells": [
  {
   "cell_type": "markdown",
   "metadata": {
    "nbsphinx": "hidden"
   },
   "source": [
    "# Vitessce Widget Tutorial"
   ]
  },
  {
   "cell_type": "markdown",
   "metadata": {},
   "source": [
    "# Vitessce SpatialQuery plugin usage demo"
   ]
  },
  {
   "cell_type": "code",
   "execution_count": null,
   "metadata": {
    "tags": []
   },
   "outputs": [],
   "source": [
    "#!pip install \"vitessce[all]==3.3.0\" esbuild_py anndata\n",
    "!pip install \"mlxtend~=0.23.0\"\n",
    "#!pip install -i \"https://test.pypi.org/simple/\" SpatialQuery\n",
    "!pip install \"SpatialQuery @ git+https://github.com/ShaokunAn/Spatial-Query@main\""
   ]
  },
  {
   "cell_type": "code",
   "execution_count": 1,
   "metadata": {},
   "outputs": [],
   "source": [
    "from os.path import join\n",
    "from anndata import read_h5ad\n",
    "from vitessce import (\n",
    "    VitessceConfig,\n",
    "    AnnDataWrapper,\n",
    "    ViewType as vt,\n",
    "    CoordinationType as ct,\n",
    "    CoordinationLevel as CL,\n",
    ")\n",
    "from vitessce.widget_plugins import SpatialQueryPlugin"
   ]
  },
  {
   "cell_type": "code",
   "execution_count": 2,
   "metadata": {},
   "outputs": [],
   "source": [
    "adata = read_h5ad(join(\"data\", \"HBM987_KWLK_254\", \"secondary_analysis.h5ad\"))\n",
    "zarr_path = join(\"data\", \"HBM987_KWLK_254\", \"secondary_analysis.h5ad.zarr\")\n",
    "adata.write_zarr(zarr_path)"
   ]
  },
  {
   "cell_type": "code",
   "execution_count": 3,
   "metadata": {},
   "outputs": [],
   "source": [
    "plugin = SpatialQueryPlugin(adata)"
   ]
  },
  {
   "cell_type": "code",
   "execution_count": 12,
   "metadata": {},
   "outputs": [],
   "source": [
    "vc = VitessceConfig(schema_version=\"1.0.16\", name=\"Spatial-Query\")\n",
    "dataset = vc.add_dataset(\"Query results\").add_object(AnnDataWrapper(\n",
    "    adata_path=zarr_path,\n",
    "    obs_feature_matrix_path=\"X\",\n",
    "    obs_set_paths=[\"obs/predicted.ASCT.celltype\"],\n",
    "    obs_set_names=[\"Cell Type\"],\n",
    "    obs_spots_path=\"obsm/X_spatial\",\n",
    "    feature_labels_path=\"var/hugo_symbol\",\n",
    "    coordination_values={\n",
    "        \"featureLabelsType\": \"Gene symbol\",\n",
    "    }\n",
    "))\n",
    "\n",
    "spatial_view = vc.add_view(\"spatialBeta\", dataset=dataset)\n",
    "lc_view = vc.add_view(\"layerControllerBeta\", dataset=dataset)\n",
    "sets_view = vc.add_view(\"obsSets\", dataset=dataset)\n",
    "features_view = vc.add_view(\"featureList\", dataset=dataset)\n",
    "sq_view = vc.add_view(\"spatialQuery\", dataset=dataset)\n",
    "\n",
    "obs_set_selection_scope, = vc.add_coordination(\"obsSetSelection\",)\n",
    "obs_set_selection_scope.set_value(None)\n",
    "\n",
    "sets_view.use_coordination(obs_set_selection_scope)\n",
    "sq_view.use_coordination(obs_set_selection_scope)\n",
    "spatial_view.use_coordination(obs_set_selection_scope)\n",
    "features_view.use_coordination(obs_set_selection_scope)\n",
    "\n",
    "vc.link_views([spatial_view, lc_view, sets_view, features_view],\n",
    "    [\"additionalObsSets\", \"obsSetColor\"],\n",
    "    [plugin.additional_obs_sets, plugin.obs_set_color]\n",
    ")\n",
    "vc.link_views_by_dict([spatial_view, lc_view], {\n",
    "    \"spotLayer\": CL([\n",
    "        {\n",
    "            \"obsType\": \"cell\",\n",
    "            \"spatialSpotRadius\": 15,\n",
    "        },\n",
    "    ])\n",
    "})\n",
    "\n",
    "vc.layout((spatial_view | (lc_view / features_view)) / (sets_view | sq_view));"
   ]
  },
  {
   "cell_type": "code",
   "execution_count": 13,
   "metadata": {},
   "outputs": [],
   "source": [
    "vw = vc.widget(height=900, plugins=[plugin], remount_on_uid_change=False)\n",
    "vw"
   ]
  }
 ],
 "metadata": {
  "kernelspec": {
   "display_name": "Python 3 (ipykernel)",
   "language": "python",
   "name": "python3"
  },
  "language_info": {
   "codemirror_mode": {
    "name": "ipython",
    "version": 3
   },
   "file_extension": ".py",
   "mimetype": "text/x-python",
   "name": "python",
   "nbconvert_exporter": "python",
   "pygments_lexer": "ipython3",
   "version": "3.10.14"
  }
 },
 "nbformat": 4,
 "nbformat_minor": 4
}
