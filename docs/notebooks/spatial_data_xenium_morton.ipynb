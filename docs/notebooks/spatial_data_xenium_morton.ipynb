{
 "cells": [
  {
   "cell_type": "markdown",
   "metadata": {
    "nbsphinx": "hidden"
   },
   "source": [
    "# Vitessce Widget Tutorial"
   ]
  },
  {
   "cell_type": "markdown",
   "metadata": {},
   "source": [
    "# Visualization of a SpatialData object"
   ]
  },
  {
   "cell_type": "markdown",
   "metadata": {},
   "source": [
    "## Import dependencies\n"
   ]
  },
  {
   "cell_type": "code",
   "execution_count": 1,
   "metadata": {},
   "outputs": [
    {
     "name": "stderr",
     "output_type": "stream",
     "text": [
      "/Users/mkeller/research/dbmi/vitessce/vitessce-python/.venv/lib/python3.10/site-packages/dask/dataframe/__init__.py:31: FutureWarning: The legacy Dask DataFrame implementation is deprecated and will be removed in a future version. Set the configuration option `dataframe.query-planning` to `True` or None to enable the new Dask Dataframe implementation and silence this warning.\n",
      "  warnings.warn(\n"
     ]
    }
   ],
   "source": [
    "import os\n",
    "from os.path import join, isfile, isdir\n",
    "from urllib.request import urlretrieve\n",
    "import zipfile\n",
    "import shutil\n",
    "\n",
    "from vitessce import (\n",
    "    VitessceConfig,\n",
    "    ViewType as vt,\n",
    "    CoordinationType as ct,\n",
    "    CoordinationLevel as CL,\n",
    "    SpatialDataWrapper,\n",
    "    get_initial_coordination_scope_prefix\n",
    ")\n",
    "\n",
    "from vitessce.data_utils import (\n",
    "    sdata_morton_sort_points,\n",
    "    sdata_morton_query_rect,\n",
    ")"
   ]
  },
  {
   "cell_type": "code",
   "execution_count": 2,
   "metadata": {},
   "outputs": [],
   "source": [
    "import pandas as pd\n",
    "import numpy as np\n",
    "import json\n",
    "import pyarrow.parquet as pq"
   ]
  },
  {
   "cell_type": "code",
   "execution_count": 3,
   "metadata": {},
   "outputs": [],
   "source": [
    "from spatialdata import read_zarr, get_element_annotators, rasterize\n",
    "from spatialdata.models import PointsModel"
   ]
  },
  {
   "cell_type": "code",
   "execution_count": 4,
   "metadata": {},
   "outputs": [],
   "source": [
    "data_dir = \"data\"\n",
    "zip_filepath = join(data_dir, \"xenium_rep1_io.spatialdata.zarr.zip\")\n",
    "spatialdata_filepath = join(data_dir, \"xenium_rep1_io.spatialdata.zarr\")"
   ]
  },
  {
   "cell_type": "code",
   "execution_count": 5,
   "metadata": {},
   "outputs": [],
   "source": [
    "if not isdir(spatialdata_filepath):\n",
    "    if not isfile(zip_filepath):\n",
    "        os.makedirs(data_dir, exist_ok=True)\n",
    "        urlretrieve('https://s3.embl.de/spatialdata/spatialdata-sandbox/xenium_rep1_io.zip', zip_filepath)\n",
    "    with zipfile.ZipFile(zip_filepath,\"r\") as zip_ref:\n",
    "        zip_ref.extractall(data_dir)\n",
    "        os.rename(join(data_dir, \"data.zarr\"), spatialdata_filepath)\n",
    "        \n",
    "        # This Xenium dataset has an AnnData \"raw\" element.\n",
    "        # Reference: https://github.com/giovp/spatialdata-sandbox/issues/55\n",
    "        raw_dir = join(spatialdata_filepath, \"tables\", \"table\", \"raw\")\n",
    "        if isdir(raw_dir):\n",
    "            shutil.rmtree(raw_dir)"
   ]
  },
  {
   "cell_type": "code",
   "execution_count": 6,
   "metadata": {},
   "outputs": [
    {
     "name": "stderr",
     "output_type": "stream",
     "text": [
      "version mismatch: detected: RasterFormatV02, requested: FormatV04\n",
      "/Users/mkeller/research/dbmi/vitessce/vitessce-python/.venv/lib/python3.10/site-packages/zarr/creation.py:614: UserWarning: ignoring keyword argument 'read_only'\n",
      "  compressor, fill_value = _kwargs_compat(compressor, fill_value, kwargs)\n",
      "version mismatch: detected: RasterFormatV02, requested: FormatV04\n"
     ]
    },
    {
     "data": {
      "text/plain": [
       "SpatialData object, with associated Zarr store: /Users/mkeller/research/dbmi/vitessce/vitessce-python/docs/notebooks/data/xenium_rep1_io.spatialdata.zarr\n",
       "├── Images\n",
       "│     ├── 'morphology_focus': DataTree[cyx] (1, 25778, 35416), (1, 12889, 17708), (1, 6444, 8854), (1, 3222, 4427), (1, 1611, 2213)\n",
       "│     └── 'morphology_mip': DataTree[cyx] (1, 25778, 35416), (1, 12889, 17708), (1, 6444, 8854), (1, 3222, 4427), (1, 1611, 2213)\n",
       "├── Points\n",
       "│     └── 'transcripts': DataFrame with shape: (<Delayed>, 8) (3D points)\n",
       "├── Shapes\n",
       "│     ├── 'cell_boundaries': GeoDataFrame shape: (167780, 1) (2D shapes)\n",
       "│     └── 'cell_circles': GeoDataFrame shape: (167780, 2) (2D shapes)\n",
       "└── Tables\n",
       "      └── 'table': AnnData (167780, 313)\n",
       "with coordinate systems:\n",
       "    ▸ 'global', with elements:\n",
       "        morphology_focus (Images), morphology_mip (Images), transcripts (Points), cell_boundaries (Shapes), cell_circles (Shapes)"
      ]
     },
     "execution_count": 6,
     "metadata": {},
     "output_type": "execute_result"
    }
   ],
   "source": [
    "sdata = read_zarr(spatialdata_filepath)\n",
    "sdata"
   ]
  },
  {
   "cell_type": "code",
   "execution_count": 7,
   "metadata": {},
   "outputs": [
    {
     "data": {
      "text/plain": [
       "42638083"
      ]
     },
     "execution_count": 7,
     "metadata": {},
     "output_type": "execute_result"
    }
   ],
   "source": [
    "sdata[\"transcripts\"].shape[0].compute()"
   ]
  },
  {
   "cell_type": "code",
   "execution_count": 8,
   "metadata": {},
   "outputs": [],
   "source": [
    "sdata.tables[\"table\"].X = sdata.tables[\"table\"].X.toarray()"
   ]
  },
  {
   "cell_type": "code",
   "execution_count": 9,
   "metadata": {},
   "outputs": [],
   "source": [
    "sdata.tables[\"dense_table\"] = sdata.tables[\"table\"]\n",
    "sdata.write_element(\"dense_table\")"
   ]
  },
  {
   "cell_type": "code",
   "execution_count": 10,
   "metadata": {},
   "outputs": [],
   "source": [
    "# TODO: store the two separate images as a single image with two channels.\n",
    "# Similar to https://github.com/EricMoerthVis/tissue-map-tools/pull/12"
   ]
  },
  {
   "cell_type": "code",
   "execution_count": 11,
   "metadata": {},
   "outputs": [
    {
     "data": {
      "text/html": [
       "<div>\n",
       "<style scoped>\n",
       "    .dataframe tbody tr th:only-of-type {\n",
       "        vertical-align: middle;\n",
       "    }\n",
       "\n",
       "    .dataframe tbody tr th {\n",
       "        vertical-align: top;\n",
       "    }\n",
       "\n",
       "    .dataframe thead th {\n",
       "        text-align: right;\n",
       "    }\n",
       "</style>\n",
       "<table border=\"1\" class=\"dataframe\">\n",
       "  <thead>\n",
       "    <tr style=\"text-align: right;\">\n",
       "      <th></th>\n",
       "      <th>cell_id</th>\n",
       "      <th>transcript_counts</th>\n",
       "      <th>control_probe_counts</th>\n",
       "      <th>control_codeword_counts</th>\n",
       "      <th>total_counts</th>\n",
       "      <th>cell_area</th>\n",
       "      <th>nucleus_area</th>\n",
       "      <th>region</th>\n",
       "    </tr>\n",
       "  </thead>\n",
       "  <tbody>\n",
       "    <tr>\n",
       "      <th>0</th>\n",
       "      <td>1</td>\n",
       "      <td>28</td>\n",
       "      <td>1</td>\n",
       "      <td>0</td>\n",
       "      <td>29</td>\n",
       "      <td>58.387031</td>\n",
       "      <td>26.642188</td>\n",
       "      <td>cell_circles</td>\n",
       "    </tr>\n",
       "    <tr>\n",
       "      <th>1</th>\n",
       "      <td>2</td>\n",
       "      <td>94</td>\n",
       "      <td>0</td>\n",
       "      <td>0</td>\n",
       "      <td>94</td>\n",
       "      <td>197.016719</td>\n",
       "      <td>42.130781</td>\n",
       "      <td>cell_circles</td>\n",
       "    </tr>\n",
       "    <tr>\n",
       "      <th>2</th>\n",
       "      <td>3</td>\n",
       "      <td>9</td>\n",
       "      <td>0</td>\n",
       "      <td>0</td>\n",
       "      <td>9</td>\n",
       "      <td>16.256250</td>\n",
       "      <td>12.688906</td>\n",
       "      <td>cell_circles</td>\n",
       "    </tr>\n",
       "    <tr>\n",
       "      <th>3</th>\n",
       "      <td>4</td>\n",
       "      <td>11</td>\n",
       "      <td>0</td>\n",
       "      <td>0</td>\n",
       "      <td>11</td>\n",
       "      <td>42.311406</td>\n",
       "      <td>10.069844</td>\n",
       "      <td>cell_circles</td>\n",
       "    </tr>\n",
       "    <tr>\n",
       "      <th>4</th>\n",
       "      <td>5</td>\n",
       "      <td>48</td>\n",
       "      <td>0</td>\n",
       "      <td>0</td>\n",
       "      <td>48</td>\n",
       "      <td>107.652500</td>\n",
       "      <td>37.479688</td>\n",
       "      <td>cell_circles</td>\n",
       "    </tr>\n",
       "    <tr>\n",
       "      <th>...</th>\n",
       "      <td>...</td>\n",
       "      <td>...</td>\n",
       "      <td>...</td>\n",
       "      <td>...</td>\n",
       "      <td>...</td>\n",
       "      <td>...</td>\n",
       "      <td>...</td>\n",
       "      <td>...</td>\n",
       "    </tr>\n",
       "    <tr>\n",
       "      <th>167775</th>\n",
       "      <td>167776</td>\n",
       "      <td>229</td>\n",
       "      <td>1</td>\n",
       "      <td>0</td>\n",
       "      <td>230</td>\n",
       "      <td>220.452813</td>\n",
       "      <td>60.599688</td>\n",
       "      <td>cell_circles</td>\n",
       "    </tr>\n",
       "    <tr>\n",
       "      <th>167776</th>\n",
       "      <td>167777</td>\n",
       "      <td>79</td>\n",
       "      <td>0</td>\n",
       "      <td>0</td>\n",
       "      <td>79</td>\n",
       "      <td>37.389375</td>\n",
       "      <td>25.242344</td>\n",
       "      <td>cell_circles</td>\n",
       "    </tr>\n",
       "    <tr>\n",
       "      <th>167777</th>\n",
       "      <td>167778</td>\n",
       "      <td>397</td>\n",
       "      <td>0</td>\n",
       "      <td>0</td>\n",
       "      <td>397</td>\n",
       "      <td>287.058281</td>\n",
       "      <td>86.700000</td>\n",
       "      <td>cell_circles</td>\n",
       "    </tr>\n",
       "    <tr>\n",
       "      <th>167778</th>\n",
       "      <td>167779</td>\n",
       "      <td>117</td>\n",
       "      <td>0</td>\n",
       "      <td>0</td>\n",
       "      <td>117</td>\n",
       "      <td>235.354375</td>\n",
       "      <td>25.197188</td>\n",
       "      <td>cell_circles</td>\n",
       "    </tr>\n",
       "    <tr>\n",
       "      <th>167779</th>\n",
       "      <td>167780</td>\n",
       "      <td>378</td>\n",
       "      <td>0</td>\n",
       "      <td>0</td>\n",
       "      <td>378</td>\n",
       "      <td>270.079531</td>\n",
       "      <td>111.806875</td>\n",
       "      <td>cell_circles</td>\n",
       "    </tr>\n",
       "  </tbody>\n",
       "</table>\n",
       "<p>167780 rows × 8 columns</p>\n",
       "</div>"
      ],
      "text/plain": [
       "        cell_id  transcript_counts  control_probe_counts  \\\n",
       "0             1                 28                     1   \n",
       "1             2                 94                     0   \n",
       "2             3                  9                     0   \n",
       "3             4                 11                     0   \n",
       "4             5                 48                     0   \n",
       "...         ...                ...                   ...   \n",
       "167775   167776                229                     1   \n",
       "167776   167777                 79                     0   \n",
       "167777   167778                397                     0   \n",
       "167778   167779                117                     0   \n",
       "167779   167780                378                     0   \n",
       "\n",
       "        control_codeword_counts  total_counts   cell_area  nucleus_area  \\\n",
       "0                             0            29   58.387031     26.642188   \n",
       "1                             0            94  197.016719     42.130781   \n",
       "2                             0             9   16.256250     12.688906   \n",
       "3                             0            11   42.311406     10.069844   \n",
       "4                             0            48  107.652500     37.479688   \n",
       "...                         ...           ...         ...           ...   \n",
       "167775                        0           230  220.452813     60.599688   \n",
       "167776                        0            79   37.389375     25.242344   \n",
       "167777                        0           397  287.058281     86.700000   \n",
       "167778                        0           117  235.354375     25.197188   \n",
       "167779                        0           378  270.079531    111.806875   \n",
       "\n",
       "              region  \n",
       "0       cell_circles  \n",
       "1       cell_circles  \n",
       "2       cell_circles  \n",
       "3       cell_circles  \n",
       "4       cell_circles  \n",
       "...              ...  \n",
       "167775  cell_circles  \n",
       "167776  cell_circles  \n",
       "167777  cell_circles  \n",
       "167778  cell_circles  \n",
       "167779  cell_circles  \n",
       "\n",
       "[167780 rows x 8 columns]"
      ]
     },
     "execution_count": 11,
     "metadata": {},
     "output_type": "execute_result"
    }
   ],
   "source": [
    "sdata.tables['table'].obs"
   ]
  },
  {
   "cell_type": "code",
   "execution_count": 12,
   "metadata": {},
   "outputs": [
    {
     "data": {
      "text/plain": [
       "'\\nFile .venv/lib/python3.10/site-packages/spatialdata/_core/operations/rasterize.py:723, in rasterize_shapes_points(data, axes, min_coordinate, max_coordinate, target_coordinate_system, target_unit_to_pixels, target_width, target_height, target_depth, element_name, sdata, value_key, table_name, return_regions_as_labels, agg_func, return_single_channel)\\n    721 max_uint16 = np.iinfo(np.uint16).max\\n    722 if max_label > max_uint16:\\n--> 723     raise ValueError(f\"Maximum label index is {max_label}. Values higher than {max_uint16} are not supported.\")\\n    724 agg = agg.astype(np.uint16)\\n    725 return Labels2DModel.parse(agg, transformations=transformations)\\n\\nValueError: Maximum label index is 167780. Values higher than 65535 are not supported.\\n'"
      ]
     },
     "execution_count": 12,
     "metadata": {},
     "output_type": "execute_result"
    }
   ],
   "source": [
    "\"\"\"\n",
    "sdata[\"rasterized\"] = rasterize(\n",
    "    sdata[\"cell_boundaries\"],\n",
    "    [\"x\", \"y\"],\n",
    "    min_coordinate=[0, 0],\n",
    "    max_coordinate=[35416, 25778], # shape of image [x, y]\n",
    "    target_coordinate_system=\"global\",\n",
    "    target_unit_to_pixels=1.0,\n",
    "    return_regions_as_labels=True,\n",
    "    value_key=\"cell_id\",\n",
    ")\n",
    "\"\"\"\n",
    "\n",
    "# Running into error:\n",
    "\n",
    "\"\"\"\n",
    "File .venv/lib/python3.10/site-packages/spatialdata/_core/operations/rasterize.py:723, in rasterize_shapes_points(data, axes, min_coordinate, max_coordinate, target_coordinate_system, target_unit_to_pixels, target_width, target_height, target_depth, element_name, sdata, value_key, table_name, return_regions_as_labels, agg_func, return_single_channel)\n",
    "    721 max_uint16 = np.iinfo(np.uint16).max\n",
    "    722 if max_label > max_uint16:\n",
    "--> 723     raise ValueError(f\"Maximum label index is {max_label}. Values higher than {max_uint16} are not supported.\")\n",
    "    724 agg = agg.astype(np.uint16)\n",
    "    725 return Labels2DModel.parse(agg, transformations=transformations)\n",
    "\n",
    "ValueError: Maximum label index is 167780. Values higher than 65535 are not supported.\n",
    "\"\"\""
   ]
  },
  {
   "cell_type": "code",
   "execution_count": 13,
   "metadata": {},
   "outputs": [
    {
     "data": {
      "text/plain": [
       "SpatialData object, with associated Zarr store: /Users/mkeller/research/dbmi/vitessce/vitessce-python/docs/notebooks/data/xenium_rep1_io.spatialdata.zarr\n",
       "├── Images\n",
       "│     ├── 'morphology_focus': DataTree[cyx] (1, 25778, 35416), (1, 12889, 17708), (1, 6444, 8854), (1, 3222, 4427), (1, 1611, 2213)\n",
       "│     └── 'morphology_mip': DataTree[cyx] (1, 25778, 35416), (1, 12889, 17708), (1, 6444, 8854), (1, 3222, 4427), (1, 1611, 2213)\n",
       "├── Points\n",
       "│     └── 'transcripts': DataFrame with shape: (<Delayed>, 8) (3D points)\n",
       "├── Shapes\n",
       "│     ├── 'cell_boundaries': GeoDataFrame shape: (167780, 1) (2D shapes)\n",
       "│     └── 'cell_circles': GeoDataFrame shape: (167780, 2) (2D shapes)\n",
       "└── Tables\n",
       "      ├── 'dense_table': AnnData (167780, 313)\n",
       "      └── 'table': AnnData (167780, 313)\n",
       "with coordinate systems:\n",
       "    ▸ 'global', with elements:\n",
       "        morphology_focus (Images), morphology_mip (Images), transcripts (Points), cell_boundaries (Shapes), cell_circles (Shapes)"
      ]
     },
     "execution_count": 13,
     "metadata": {},
     "output_type": "execute_result"
    }
   ],
   "source": [
    "sdata"
   ]
  },
  {
   "cell_type": "code",
   "execution_count": 14,
   "metadata": {},
   "outputs": [
    {
     "data": {
      "text/html": [
       "<div>\n",
       "<style scoped>\n",
       "    .dataframe tbody tr th:only-of-type {\n",
       "        vertical-align: middle;\n",
       "    }\n",
       "\n",
       "    .dataframe tbody tr th {\n",
       "        vertical-align: top;\n",
       "    }\n",
       "\n",
       "    .dataframe thead th {\n",
       "        text-align: right;\n",
       "    }\n",
       "</style>\n",
       "<table border=\"1\" class=\"dataframe\">\n",
       "  <thead>\n",
       "    <tr style=\"text-align: right;\">\n",
       "      <th></th>\n",
       "      <th>x</th>\n",
       "      <th>y</th>\n",
       "      <th>z</th>\n",
       "      <th>feature_name</th>\n",
       "      <th>cell_id</th>\n",
       "      <th>overlaps_nucleus</th>\n",
       "      <th>transcript_id</th>\n",
       "      <th>qv</th>\n",
       "    </tr>\n",
       "  </thead>\n",
       "  <tbody>\n",
       "    <tr>\n",
       "      <th>0</th>\n",
       "      <td>4.395842</td>\n",
       "      <td>328.666473</td>\n",
       "      <td>12.019493</td>\n",
       "      <td>SEC11C</td>\n",
       "      <td>565</td>\n",
       "      <td>0</td>\n",
       "      <td>281474976710656</td>\n",
       "      <td>18.662479</td>\n",
       "    </tr>\n",
       "    <tr>\n",
       "      <th>1</th>\n",
       "      <td>5.074415</td>\n",
       "      <td>236.964844</td>\n",
       "      <td>7.608510</td>\n",
       "      <td>NegControlCodeword_0502</td>\n",
       "      <td>540</td>\n",
       "      <td>0</td>\n",
       "      <td>281474976710657</td>\n",
       "      <td>18.634956</td>\n",
       "    </tr>\n",
       "    <tr>\n",
       "      <th>2</th>\n",
       "      <td>4.702023</td>\n",
       "      <td>322.797150</td>\n",
       "      <td>12.289083</td>\n",
       "      <td>SEC11C</td>\n",
       "      <td>562</td>\n",
       "      <td>0</td>\n",
       "      <td>281474976710658</td>\n",
       "      <td>18.662479</td>\n",
       "    </tr>\n",
       "    <tr>\n",
       "      <th>3</th>\n",
       "      <td>4.906601</td>\n",
       "      <td>581.428650</td>\n",
       "      <td>11.222615</td>\n",
       "      <td>DAPK3</td>\n",
       "      <td>271</td>\n",
       "      <td>0</td>\n",
       "      <td>281474976710659</td>\n",
       "      <td>20.821745</td>\n",
       "    </tr>\n",
       "    <tr>\n",
       "      <th>4</th>\n",
       "      <td>5.660699</td>\n",
       "      <td>720.851746</td>\n",
       "      <td>9.265523</td>\n",
       "      <td>TCIM</td>\n",
       "      <td>291</td>\n",
       "      <td>0</td>\n",
       "      <td>281474976710660</td>\n",
       "      <td>18.017488</td>\n",
       "    </tr>\n",
       "  </tbody>\n",
       "</table>\n",
       "</div>"
      ],
      "text/plain": [
       "          x           y          z             feature_name  cell_id  \\\n",
       "0  4.395842  328.666473  12.019493                   SEC11C      565   \n",
       "1  5.074415  236.964844   7.608510  NegControlCodeword_0502      540   \n",
       "2  4.702023  322.797150  12.289083                   SEC11C      562   \n",
       "3  4.906601  581.428650  11.222615                    DAPK3      271   \n",
       "4  5.660699  720.851746   9.265523                     TCIM      291   \n",
       "\n",
       "   overlaps_nucleus    transcript_id         qv  \n",
       "0                 0  281474976710656  18.662479  \n",
       "1                 0  281474976710657  18.634956  \n",
       "2                 0  281474976710658  18.662479  \n",
       "3                 0  281474976710659  20.821745  \n",
       "4                 0  281474976710660  18.017488  "
      ]
     },
     "execution_count": 14,
     "metadata": {},
     "output_type": "execute_result"
    }
   ],
   "source": [
    "sdata.points['transcripts'].head()"
   ]
  },
  {
   "cell_type": "code",
   "execution_count": 15,
   "metadata": {},
   "outputs": [
    {
     "name": "stderr",
     "output_type": "stream",
     "text": [
      "/Users/mkeller/research/dbmi/vitessce/vitessce-python/.venv/lib/python3.10/site-packages/spatialdata/_core/_elements.py:115: UserWarning: Key `transcripts` already exists. Overwriting it in-memory.\n",
      "  self._check_key(key, self.keys(), self._shared_keys)\n"
     ]
    }
   ],
   "source": [
    "sdata = sdata_morton_sort_points(sdata, \"transcripts\")"
   ]
  },
  {
   "cell_type": "code",
   "execution_count": 16,
   "metadata": {},
   "outputs": [],
   "source": [
    "# Add feature_index column to dataframe, and reorder columns so that feature_name (dict column) is the final column (all the way to the right)"
   ]
  },
  {
   "cell_type": "code",
   "execution_count": 17,
   "metadata": {},
   "outputs": [
    {
     "data": {
      "text/html": [
       "<div>\n",
       "<style scoped>\n",
       "    .dataframe tbody tr th:only-of-type {\n",
       "        vertical-align: middle;\n",
       "    }\n",
       "\n",
       "    .dataframe tbody tr th {\n",
       "        vertical-align: top;\n",
       "    }\n",
       "\n",
       "    .dataframe thead th {\n",
       "        text-align: right;\n",
       "    }\n",
       "</style>\n",
       "<table border=\"1\" class=\"dataframe\">\n",
       "  <thead>\n",
       "    <tr style=\"text-align: right;\">\n",
       "      <th></th>\n",
       "      <th>x</th>\n",
       "      <th>y</th>\n",
       "      <th>z</th>\n",
       "      <th>feature_name</th>\n",
       "      <th>cell_id</th>\n",
       "      <th>overlaps_nucleus</th>\n",
       "      <th>transcript_id</th>\n",
       "      <th>qv</th>\n",
       "      <th>x_uint</th>\n",
       "      <th>y_uint</th>\n",
       "      <th>morton_code_2d</th>\n",
       "    </tr>\n",
       "  </thead>\n",
       "  <tbody>\n",
       "    <tr>\n",
       "      <th>677718</th>\n",
       "      <td>16.058575</td>\n",
       "      <td>17.155981</td>\n",
       "      <td>6.504758</td>\n",
       "      <td>ERBB2</td>\n",
       "      <td>-1</td>\n",
       "      <td>0</td>\n",
       "      <td>281474977398719</td>\n",
       "      <td>40.000000</td>\n",
       "      <td>156</td>\n",
       "      <td>152</td>\n",
       "      <td>50128</td>\n",
       "    </tr>\n",
       "    <tr>\n",
       "      <th>542861</th>\n",
       "      <td>49.912006</td>\n",
       "      <td>13.121742</td>\n",
       "      <td>6.657761</td>\n",
       "      <td>TOMM7</td>\n",
       "      <td>-1</td>\n",
       "      <td>0</td>\n",
       "      <td>281474977261746</td>\n",
       "      <td>20.909292</td>\n",
       "      <td>451</td>\n",
       "      <td>104</td>\n",
       "      <td>96389</td>\n",
       "    </tr>\n",
       "    <tr>\n",
       "      <th>817519</th>\n",
       "      <td>50.067265</td>\n",
       "      <td>14.154890</td>\n",
       "      <td>6.614446</td>\n",
       "      <td>SERHL2</td>\n",
       "      <td>-1</td>\n",
       "      <td>0</td>\n",
       "      <td>281474977540499</td>\n",
       "      <td>40.000000</td>\n",
       "      <td>452</td>\n",
       "      <td>116</td>\n",
       "      <td>96816</td>\n",
       "    </tr>\n",
       "    <tr>\n",
       "      <th>600252</th>\n",
       "      <td>40.367912</td>\n",
       "      <td>24.953489</td>\n",
       "      <td>6.542048</td>\n",
       "      <td>SCD</td>\n",
       "      <td>-1</td>\n",
       "      <td>0</td>\n",
       "      <td>281474977320069</td>\n",
       "      <td>40.000000</td>\n",
       "      <td>367</td>\n",
       "      <td>246</td>\n",
       "      <td>114301</td>\n",
       "    </tr>\n",
       "    <tr>\n",
       "      <th>518878</th>\n",
       "      <td>56.408573</td>\n",
       "      <td>16.603086</td>\n",
       "      <td>6.755222</td>\n",
       "      <td>TPD52</td>\n",
       "      <td>-1</td>\n",
       "      <td>0</td>\n",
       "      <td>281474977237434</td>\n",
       "      <td>20.625040</td>\n",
       "      <td>507</td>\n",
       "      <td>146</td>\n",
       "      <td>120653</td>\n",
       "    </tr>\n",
       "  </tbody>\n",
       "</table>\n",
       "</div>"
      ],
      "text/plain": [
       "                x          y         z feature_name  cell_id  \\\n",
       "677718  16.058575  17.155981  6.504758        ERBB2       -1   \n",
       "542861  49.912006  13.121742  6.657761        TOMM7       -1   \n",
       "817519  50.067265  14.154890  6.614446       SERHL2       -1   \n",
       "600252  40.367912  24.953489  6.542048          SCD       -1   \n",
       "518878  56.408573  16.603086  6.755222        TPD52       -1   \n",
       "\n",
       "        overlaps_nucleus    transcript_id         qv  x_uint  y_uint  \\\n",
       "677718                 0  281474977398719  40.000000     156     152   \n",
       "542861                 0  281474977261746  20.909292     451     104   \n",
       "817519                 0  281474977540499  40.000000     452     116   \n",
       "600252                 0  281474977320069  40.000000     367     246   \n",
       "518878                 0  281474977237434  20.625040     507     146   \n",
       "\n",
       "        morton_code_2d  \n",
       "677718           50128  \n",
       "542861           96389  \n",
       "817519           96816  \n",
       "600252          114301  \n",
       "518878          120653  "
      ]
     },
     "execution_count": 17,
     "metadata": {},
     "output_type": "execute_result"
    }
   ],
   "source": [
    "# Convert feature_name column to feature_index column.\n",
    "ddf = sdata.points['transcripts']\n",
    "ddf.head()"
   ]
  },
  {
   "cell_type": "code",
   "execution_count": 18,
   "metadata": {},
   "outputs": [
    {
     "data": {
      "text/html": [
       "<div>\n",
       "<style scoped>\n",
       "    .dataframe tbody tr th:only-of-type {\n",
       "        vertical-align: middle;\n",
       "    }\n",
       "\n",
       "    .dataframe tbody tr th {\n",
       "        vertical-align: top;\n",
       "    }\n",
       "\n",
       "    .dataframe thead th {\n",
       "        text-align: right;\n",
       "    }\n",
       "</style>\n",
       "<table border=\"1\" class=\"dataframe\">\n",
       "  <thead>\n",
       "    <tr style=\"text-align: right;\">\n",
       "      <th></th>\n",
       "      <th>gene_ids</th>\n",
       "      <th>feature_types</th>\n",
       "      <th>genome</th>\n",
       "    </tr>\n",
       "  </thead>\n",
       "  <tbody>\n",
       "    <tr>\n",
       "      <th>ABCC11</th>\n",
       "      <td>ENSG00000121270</td>\n",
       "      <td>Gene Expression</td>\n",
       "      <td>Unknown</td>\n",
       "    </tr>\n",
       "    <tr>\n",
       "      <th>ACTA2</th>\n",
       "      <td>ENSG00000107796</td>\n",
       "      <td>Gene Expression</td>\n",
       "      <td>Unknown</td>\n",
       "    </tr>\n",
       "    <tr>\n",
       "      <th>ACTG2</th>\n",
       "      <td>ENSG00000163017</td>\n",
       "      <td>Gene Expression</td>\n",
       "      <td>Unknown</td>\n",
       "    </tr>\n",
       "    <tr>\n",
       "      <th>ADAM9</th>\n",
       "      <td>ENSG00000168615</td>\n",
       "      <td>Gene Expression</td>\n",
       "      <td>Unknown</td>\n",
       "    </tr>\n",
       "    <tr>\n",
       "      <th>ADGRE5</th>\n",
       "      <td>ENSG00000123146</td>\n",
       "      <td>Gene Expression</td>\n",
       "      <td>Unknown</td>\n",
       "    </tr>\n",
       "  </tbody>\n",
       "</table>\n",
       "</div>"
      ],
      "text/plain": [
       "               gene_ids    feature_types   genome\n",
       "ABCC11  ENSG00000121270  Gene Expression  Unknown\n",
       "ACTA2   ENSG00000107796  Gene Expression  Unknown\n",
       "ACTG2   ENSG00000163017  Gene Expression  Unknown\n",
       "ADAM9   ENSG00000168615  Gene Expression  Unknown\n",
       "ADGRE5  ENSG00000123146  Gene Expression  Unknown"
      ]
     },
     "execution_count": 18,
     "metadata": {},
     "output_type": "execute_result"
    }
   ],
   "source": [
    "var_df = sdata.tables[\"table\"].var\n",
    "var_df.head()"
   ]
  },
  {
   "cell_type": "code",
   "execution_count": 19,
   "metadata": {},
   "outputs": [],
   "source": [
    "var_index = var_df.index.values.tolist()"
   ]
  },
  {
   "cell_type": "code",
   "execution_count": 20,
   "metadata": {},
   "outputs": [
    {
     "name": "stderr",
     "output_type": "stream",
     "text": [
      "/Users/mkeller/research/dbmi/vitessce/vitessce-python/.venv/lib/python3.10/site-packages/dask/dataframe/core.py:4448: UserWarning: \n",
      "You did not provide metadata, so Dask is running your function on a small dataset to guess output types. It is possible that Dask will guess incorrectly.\n",
      "To provide an explicit output types or to silence this message, please provide the `meta=` keyword, as described in the map or apply function that you are using.\n",
      "  Before: .apply(func)\n",
      "  After:  .apply(func, meta=('feature_name', 'category'))\n",
      "\n",
      "  warnings.warn(meta_warning(meta))\n"
     ]
    }
   ],
   "source": [
    "# Add new feature_index column, then remove feature_name since Dictionary-encoded and not working with individual row group reading\n",
    "\n",
    "def try_index(gene_name):\n",
    "    try:\n",
    "        return var_index.index(gene_name)\n",
    "    except:\n",
    "        return -1\n",
    "ddf[\"feature_index\"] = ddf[\"feature_name\"].apply(try_index).astype('int32')"
   ]
  },
  {
   "cell_type": "code",
   "execution_count": 21,
   "metadata": {},
   "outputs": [
    {
     "data": {
      "text/plain": [
       "['x',\n",
       " 'y',\n",
       " 'z',\n",
       " 'cell_id',\n",
       " 'overlaps_nucleus',\n",
       " 'transcript_id',\n",
       " 'qv',\n",
       " 'x_uint',\n",
       " 'y_uint',\n",
       " 'morton_code_2d',\n",
       " 'feature_index',\n",
       " 'feature_name']"
      ]
     },
     "execution_count": 21,
     "metadata": {},
     "output_type": "execute_result"
    }
   ],
   "source": [
    "orig_columns = ddf.columns.tolist()\n",
    "ordered_columns = sorted(orig_columns, key=lambda colname: orig_columns.index(colname) if colname != \"feature_name\" else len(orig_columns))\n",
    "ordered_columns"
   ]
  },
  {
   "cell_type": "code",
   "execution_count": 22,
   "metadata": {},
   "outputs": [],
   "source": [
    "# Reorder the columns of the dataframe\n",
    "ddf = ddf[ordered_columns]"
   ]
  },
  {
   "cell_type": "code",
   "execution_count": 23,
   "metadata": {},
   "outputs": [
    {
     "data": {
      "text/html": [
       "<div>\n",
       "<style scoped>\n",
       "    .dataframe tbody tr th:only-of-type {\n",
       "        vertical-align: middle;\n",
       "    }\n",
       "\n",
       "    .dataframe tbody tr th {\n",
       "        vertical-align: top;\n",
       "    }\n",
       "\n",
       "    .dataframe thead th {\n",
       "        text-align: right;\n",
       "    }\n",
       "</style>\n",
       "<table border=\"1\" class=\"dataframe\">\n",
       "  <thead>\n",
       "    <tr style=\"text-align: right;\">\n",
       "      <th></th>\n",
       "      <th>x</th>\n",
       "      <th>y</th>\n",
       "      <th>z</th>\n",
       "      <th>cell_id</th>\n",
       "      <th>overlaps_nucleus</th>\n",
       "      <th>transcript_id</th>\n",
       "      <th>qv</th>\n",
       "      <th>x_uint</th>\n",
       "      <th>y_uint</th>\n",
       "      <th>morton_code_2d</th>\n",
       "      <th>feature_index</th>\n",
       "      <th>feature_name</th>\n",
       "    </tr>\n",
       "  </thead>\n",
       "  <tbody>\n",
       "    <tr>\n",
       "      <th>677718</th>\n",
       "      <td>16.058575</td>\n",
       "      <td>17.155981</td>\n",
       "      <td>6.504758</td>\n",
       "      <td>-1</td>\n",
       "      <td>0</td>\n",
       "      <td>281474977398719</td>\n",
       "      <td>40.000000</td>\n",
       "      <td>156</td>\n",
       "      <td>152</td>\n",
       "      <td>50128</td>\n",
       "      <td>113</td>\n",
       "      <td>ERBB2</td>\n",
       "    </tr>\n",
       "    <tr>\n",
       "      <th>542861</th>\n",
       "      <td>49.912006</td>\n",
       "      <td>13.121742</td>\n",
       "      <td>6.657761</td>\n",
       "      <td>-1</td>\n",
       "      <td>0</td>\n",
       "      <td>281474977261746</td>\n",
       "      <td>20.909292</td>\n",
       "      <td>451</td>\n",
       "      <td>104</td>\n",
       "      <td>96389</td>\n",
       "      <td>294</td>\n",
       "      <td>TOMM7</td>\n",
       "    </tr>\n",
       "    <tr>\n",
       "      <th>817519</th>\n",
       "      <td>50.067265</td>\n",
       "      <td>14.154890</td>\n",
       "      <td>6.614446</td>\n",
       "      <td>-1</td>\n",
       "      <td>0</td>\n",
       "      <td>281474977540499</td>\n",
       "      <td>40.000000</td>\n",
       "      <td>452</td>\n",
       "      <td>116</td>\n",
       "      <td>96816</td>\n",
       "      <td>256</td>\n",
       "      <td>SERHL2</td>\n",
       "    </tr>\n",
       "    <tr>\n",
       "      <th>600252</th>\n",
       "      <td>40.367912</td>\n",
       "      <td>24.953489</td>\n",
       "      <td>6.542048</td>\n",
       "      <td>-1</td>\n",
       "      <td>0</td>\n",
       "      <td>281474977320069</td>\n",
       "      <td>40.000000</td>\n",
       "      <td>367</td>\n",
       "      <td>246</td>\n",
       "      <td>114301</td>\n",
       "      <td>250</td>\n",
       "      <td>SCD</td>\n",
       "    </tr>\n",
       "    <tr>\n",
       "      <th>518878</th>\n",
       "      <td>56.408573</td>\n",
       "      <td>16.603086</td>\n",
       "      <td>6.755222</td>\n",
       "      <td>-1</td>\n",
       "      <td>0</td>\n",
       "      <td>281474977237434</td>\n",
       "      <td>20.625040</td>\n",
       "      <td>507</td>\n",
       "      <td>146</td>\n",
       "      <td>120653</td>\n",
       "      <td>296</td>\n",
       "      <td>TPD52</td>\n",
       "    </tr>\n",
       "  </tbody>\n",
       "</table>\n",
       "</div>"
      ],
      "text/plain": [
       "                x          y         z  cell_id  overlaps_nucleus  \\\n",
       "677718  16.058575  17.155981  6.504758       -1                 0   \n",
       "542861  49.912006  13.121742  6.657761       -1                 0   \n",
       "817519  50.067265  14.154890  6.614446       -1                 0   \n",
       "600252  40.367912  24.953489  6.542048       -1                 0   \n",
       "518878  56.408573  16.603086  6.755222       -1                 0   \n",
       "\n",
       "          transcript_id         qv  x_uint  y_uint  morton_code_2d  \\\n",
       "677718  281474977398719  40.000000     156     152           50128   \n",
       "542861  281474977261746  20.909292     451     104           96389   \n",
       "817519  281474977540499  40.000000     452     116           96816   \n",
       "600252  281474977320069  40.000000     367     246          114301   \n",
       "518878  281474977237434  20.625040     507     146          120653   \n",
       "\n",
       "        feature_index feature_name  \n",
       "677718            113        ERBB2  \n",
       "542861            294        TOMM7  \n",
       "817519            256       SERHL2  \n",
       "600252            250          SCD  \n",
       "518878            296        TPD52  "
      ]
     },
     "execution_count": 23,
     "metadata": {},
     "output_type": "execute_result"
    }
   ],
   "source": [
    "ddf.head()"
   ]
  },
  {
   "cell_type": "code",
   "execution_count": 24,
   "metadata": {},
   "outputs": [],
   "source": [
    "# Save the updated points dataframe to disk"
   ]
  },
  {
   "cell_type": "code",
   "execution_count": 25,
   "metadata": {},
   "outputs": [],
   "source": [
    "sdata[\"transcripts_with_morton_codes\"] = ddf"
   ]
  },
  {
   "cell_type": "code",
   "execution_count": 26,
   "metadata": {},
   "outputs": [],
   "source": [
    "sdata.write_element(\"transcripts_with_morton_codes\")"
   ]
  },
  {
   "cell_type": "code",
   "execution_count": 27,
   "metadata": {},
   "outputs": [],
   "source": [
    "# Update the row group size in each .parquet file part.\n",
    "for i in range(8):\n",
    "    table_read = pq.read_table(join(spatialdata_filepath, \"points\", \"transcripts_with_morton_codes\", \"points.parquet\", f\"part.{i}.parquet\"))\n",
    "\n",
    "    # Write the table to a new Parquet file with the desired row group size.\n",
    "    # Eventually, we would need a mechanism to pass the row_group_size parameter to where SpatialData calls DaskDataFrame.to_parquet (or change the default)\n",
    "    # Reference: https://github.com/scverse/spatialdata/blob/aeef0cc3ebd7c10a7ed17b84415213bb259a5f4b/src/spatialdata/_io/io_points.py#L83C12-L83C22\n",
    "    pq.write_table(\n",
    "        table_read,\n",
    "        join(spatialdata_filepath, \"points\", \"transcripts_with_morton_codes\", \"points.parquet\", f\"part.{i}.parquet\"),\n",
    "        row_group_size=50_000,\n",
    "        # You can also specify compression, version, etc.\n",
    "        # compression='snappy',\n",
    "        # version='2.6'\n",
    "    )"
   ]
  },
  {
   "cell_type": "code",
   "execution_count": 28,
   "metadata": {},
   "outputs": [
    {
     "data": {
      "text/plain": [
       "{'x_min': -1.8734135627746582,\n",
       " 'x_max': 7522.74609375,\n",
       " 'y_min': 4.415738582611084,\n",
       " 'y_max': 5473.509765625}"
      ]
     },
     "execution_count": 28,
     "metadata": {},
     "output_type": "execute_result"
    }
   ],
   "source": [
    "# Note: this custom \"bounding_box\" attribute will not be written to disk:\n",
    "# See https://github.com/scverse/spatialdata/blob/aeef0cc3ebd7c10a7ed17b84415213bb259a5f4b/src/spatialdata/_io/format.py#L116\n",
    "sdata[\"transcripts\"].attrs[\"bounding_box\"]"
   ]
  },
  {
   "cell_type": "code",
   "execution_count": 29,
   "metadata": {},
   "outputs": [
    {
     "data": {
      "text/plain": [
       "'{\"x_min\": -1.8734135627746582, \"x_max\": 7522.74609375, \"y_min\": 4.415738582611084, \"y_max\": 5473.509765625}'"
      ]
     },
     "execution_count": 29,
     "metadata": {},
     "output_type": "execute_result"
    }
   ],
   "source": [
    "json.dumps(sdata[\"transcripts\"].attrs[\"bounding_box\"])"
   ]
  },
  {
   "cell_type": "code",
   "execution_count": 30,
   "metadata": {},
   "outputs": [
    {
     "data": {
      "text/plain": [
       "92"
      ]
     },
     "execution_count": 30,
     "metadata": {},
     "output_type": "execute_result"
    }
   ],
   "source": [
    "# Check the number of row groups\n",
    "parquet_file = pq.ParquetFile(join(spatialdata_filepath, \"points\", \"transcripts_with_morton_codes\", \"points.parquet\", \"part.0.parquet\"))\n",
    "\n",
    "# Get the total number of row groups\n",
    "num_groups = parquet_file.num_row_groups\n",
    "num_groups"
   ]
  },
  {
   "cell_type": "code",
   "execution_count": 31,
   "metadata": {},
   "outputs": [],
   "source": [
    "# DONE?"
   ]
  },
  {
   "cell_type": "code",
   "execution_count": null,
   "metadata": {},
   "outputs": [],
   "source": [
    "sdata.points['transcripts_with_morton_codes'].head()"
   ]
  },
  {
   "cell_type": "code",
   "execution_count": null,
   "metadata": {},
   "outputs": [],
   "source": [
    "ddf.head()"
   ]
  },
  {
   "cell_type": "code",
   "execution_count": null,
   "metadata": {},
   "outputs": [],
   "source": [
    "ddf2 = ddf.drop(columns=[\"feature_name\"])"
   ]
  },
  {
   "cell_type": "code",
   "execution_count": null,
   "metadata": {},
   "outputs": [],
   "source": [
    "del ddf2.attrs[\"spatialdata_attrs\"][\"feature_key\"]"
   ]
  },
  {
   "cell_type": "code",
   "execution_count": null,
   "metadata": {},
   "outputs": [],
   "source": [
    "df = ddf2.compute()\n",
    "df = df.reset_index()"
   ]
  },
  {
   "cell_type": "code",
   "execution_count": null,
   "metadata": {},
   "outputs": [],
   "source": [
    "sdata.points[\"transcripts_with_morton_codes_without_feature_name\"] = ddf2\n",
    "sdata.write_element(\"transcripts_with_morton_codes_without_feature_name\")"
   ]
  },
  {
   "cell_type": "code",
   "execution_count": null,
   "metadata": {},
   "outputs": [],
   "source": [
    "ddf2.head()"
   ]
  },
  {
   "cell_type": "code",
   "execution_count": null,
   "metadata": {},
   "outputs": [],
   "source": [
    "# Current row group size is ~1 million, or ~32 MB\n",
    "# We want to try a row group size of ~50,000, or 1.6 MB"
   ]
  },
  {
   "cell_type": "code",
   "execution_count": null,
   "metadata": {},
   "outputs": [],
   "source": [
    "for i in range(8):\n",
    "    table_read = pq.read_table(join(spatialdata_filepath, \"points\", \"transcripts_with_morton_codes_without_feature_name\", \"points.parquet\", f\"part.{i}.parquet\"))\n",
    "\n",
    "    # Write the table to a new Parquet file with the desired row group size.\n",
    "    # Eventually, we would need a mechanism to pass the row_group_size parameter to where SpatialData calls DaskDataFrame.to_parquet (or change the default)\n",
    "    # Reference: https://github.com/scverse/spatialdata/blob/aeef0cc3ebd7c10a7ed17b84415213bb259a5f4b/src/spatialdata/_io/io_points.py#L83C12-L83C22\n",
    "    pq.write_table(\n",
    "        table_read,\n",
    "        join(spatialdata_filepath, \"points\", \"transcripts_with_morton_codes_without_feature_name\", \"points.parquet\", f\"part.{i}.parquet\"),\n",
    "        row_group_size=50_000,\n",
    "        # You can also specify compression, version, etc.\n",
    "        # compression='snappy',\n",
    "        # version='2.6'\n",
    "    )"
   ]
  },
  {
   "cell_type": "code",
   "execution_count": null,
   "metadata": {},
   "outputs": [],
   "source": [
    "# TODO: now upload the updated SpatialData object to S3"
   ]
  },
  {
   "cell_type": "code",
   "execution_count": null,
   "metadata": {},
   "outputs": [],
   "source": []
  },
  {
   "cell_type": "code",
   "execution_count": null,
   "metadata": {},
   "outputs": [],
   "source": [
    "sdata.points[\"transcripts\"].head()"
   ]
  },
  {
   "cell_type": "code",
   "execution_count": null,
   "metadata": {},
   "outputs": [],
   "source": [
    "sdata.points['transcripts'].attrs"
   ]
  },
  {
   "cell_type": "code",
   "execution_count": null,
   "metadata": {},
   "outputs": [],
   "source": [
    "orig_rect = [[50, 50], [100, 150]] # x0, y0, x1, y1\n",
    "rect_row_ranges = sdata_morton_query_rect(sdata, \"transcripts\", orig_rect)"
   ]
  },
  {
   "cell_type": "code",
   "execution_count": null,
   "metadata": {},
   "outputs": [],
   "source": [
    "rect_row_ranges"
   ]
  },
  {
   "cell_type": "code",
   "execution_count": null,
   "metadata": {},
   "outputs": [],
   "source": [
    "df = sdata.points[\"transcripts\"].compute()"
   ]
  },
  {
   "cell_type": "code",
   "execution_count": null,
   "metadata": {},
   "outputs": [],
   "source": [
    "# Convert list of (start, end) tuples to flat list of individual integer indices\n",
    "row_indices = []\n",
    "for (row_i, row_j) in rect_row_ranges:\n",
    "    row_indices.extend(list(range(row_i, row_j)))\n",
    "\n",
    "# Subset pandas df using matching row indices\n",
    "df.iloc[row_indices, :]"
   ]
  },
  {
   "cell_type": "code",
   "execution_count": null,
   "metadata": {},
   "outputs": [],
   "source": [
    "import dask.dataframe as dd\n",
    "\n",
    "# Construct dask dataframe of points in range 100x200:\n",
    "toy_df = pd.DataFrame(index=[], data=[], columns=[\"x\", \"y\"])\n",
    "toy_df[\"x\"] = np.random.uniform(low=0.0, high=100.0, size=20)\n",
    "toy_df[\"y\"] = np.random.uniform(low=0.0, high=200.0, size=20)\n",
    "\n",
    "toy_ddf = dd.from_pandas(toy_df, npartitions=2)"
   ]
  },
  {
   "cell_type": "code",
   "execution_count": null,
   "metadata": {},
   "outputs": [],
   "source": [
    "# Compute morton codes\n",
    "toy_ddf = norm_ddf_to_uint(toy_ddf)\n",
    "toy_ddf[\"morton_code_2d\"] = morton_interleave(toy_ddf)\n",
    "sorted_ddf = toy_ddf.sort_values(by=\"morton_code_2d\", ascending=True).compute()"
   ]
  },
  {
   "cell_type": "markdown",
   "metadata": {},
   "source": [
    "## Configure Vitessce\n",
    "\n",
    "Vitessce needs to know which pieces of data we are interested in visualizing, the visualization types we would like to use, and how we want to coordinate (or link) the views."
   ]
  },
  {
   "cell_type": "code",
   "execution_count": null,
   "metadata": {},
   "outputs": [],
   "source": [
    "vc = VitessceConfig(\n",
    "    schema_version=\"1.0.18\",\n",
    "    name='MERFISH SpatialData Demo',\n",
    ")\n",
    "# Add data to the configuration:\n",
    "wrapper = SpatialDataWrapper(\n",
    "    sdata_path=spatialdata_filepath,\n",
    "    # The following paths are relative to the root of the SpatialData zarr store on-disk.\n",
    "    image_path=\"images/rasterized\",\n",
    "    table_path=\"tables/table\",\n",
    "    obs_feature_matrix_path=\"tables/table/X\",\n",
    "    obs_spots_path=\"shapes/cells\",\n",
    "    coordinate_system=\"global\",\n",
    "    coordination_values={\n",
    "        # The following tells Vitessce to consider each observation as a \"spot\"\n",
    "        \"obsType\": \"cell\",\n",
    "    }\n",
    ")\n",
    "dataset = vc.add_dataset(name='MERFISH').add_object(wrapper)\n",
    "\n",
    "# Add views (visualizations) to the configuration:\n",
    "spatial = vc.add_view(\"spatialBeta\", dataset=dataset)\n",
    "feature_list = vc.add_view(\"featureList\", dataset=dataset)\n",
    "layer_controller = vc.add_view(\"layerControllerBeta\", dataset=dataset)\n",
    "obs_sets = vc.add_view(\"obsSets\", dataset=dataset)\n",
    "\n",
    "vc.link_views_by_dict([spatial, layer_controller], {\n",
    "    'spotLayer': CL([{\n",
    "        'obsType': 'cell',\n",
    "    }]),\n",
    "}, scope_prefix=get_initial_coordination_scope_prefix(\"A\", \"obsSpots\"))\n",
    "\n",
    "vc.link_views([spatial, layer_controller, feature_list, obs_sets], ['obsType'], [wrapper.obs_type_label])\n",
    "\n",
    "# Layout the views\n",
    "vc.layout(spatial | (feature_list / layer_controller / obs_sets));"
   ]
  },
  {
   "cell_type": "markdown",
   "metadata": {},
   "source": [
    "### Render the widget"
   ]
  },
  {
   "cell_type": "code",
   "execution_count": null,
   "metadata": {},
   "outputs": [],
   "source": [
    "vw = vc.widget()\n",
    "vw"
   ]
  },
  {
   "cell_type": "code",
   "execution_count": null,
   "metadata": {},
   "outputs": [],
   "source": []
  }
 ],
 "metadata": {
  "kernelspec": {
   "display_name": "Python 3 (ipykernel)",
   "language": "python",
   "name": "python3"
  },
  "language_info": {
   "codemirror_mode": {
    "name": "ipython",
    "version": 3
   },
   "file_extension": ".py",
   "mimetype": "text/x-python",
   "name": "python",
   "nbconvert_exporter": "python",
   "pygments_lexer": "ipython3",
   "version": "3.10.14"
  }
 },
 "nbformat": 4,
 "nbformat_minor": 4
}
