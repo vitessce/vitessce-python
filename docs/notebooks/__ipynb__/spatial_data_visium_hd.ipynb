{
 "cells": [
  {
   "cell_type": "markdown",
   "id": "Hbol",
   "metadata": {
    "marimo": {
     "config": {
      "hide_code": true
     }
    }
   },
   "source": [
    "# Vitessce Widget Tutorial"
   ]
  },
  {
   "cell_type": "markdown",
   "id": "MJUe",
   "metadata": {
    "marimo": {
     "config": {
      "hide_code": true
     }
    }
   },
   "source": [
    "# Visualization of a SpatialData object"
   ]
  },
  {
   "cell_type": "markdown",
   "id": "vblA",
   "metadata": {
    "marimo": {
     "config": {
      "hide_code": true
     }
    }
   },
   "source": [
    "## Import dependencies"
   ]
  },
  {
   "cell_type": "code",
   "execution_count": null,
   "id": "bkHC",
   "metadata": {},
   "outputs": [],
   "source": [
    "import os\n",
    "from os.path import join, isfile, isdir\n",
    "from urllib.request import urlretrieve\n",
    "import zipfile\n",
    "\n",
    "from vitessce import (\n",
    "    VitessceConfig,\n",
    "    ViewType as vt,\n",
    "    CoordinationType as ct,\n",
    "    CoordinationLevel as CL,\n",
    "    SpatialDataWrapper,\n",
    "    get_initial_coordination_scope_prefix\n",
    ")"
   ]
  },
  {
   "cell_type": "code",
   "execution_count": null,
   "id": "lEQa",
   "metadata": {},
   "outputs": [],
   "source": [
    "data_dir = \"data\"\n",
    "zip_filepath = join(data_dir, \"visium_hd_3.0.0_io.zip\")\n",
    "spatialdata_filepath = join(data_dir, \"visium_hd_3.0.0.spatialdata.zarr\")"
   ]
  },
  {
   "cell_type": "code",
   "execution_count": null,
   "id": "PKri",
   "metadata": {},
   "outputs": [],
   "source": [
    "if not isdir(spatialdata_filepath):\n",
    "    if not isfile(zip_filepath):\n",
    "        os.makedirs(data_dir, exist_ok=True)\n",
    "        urlretrieve('https://s3.embl.de/spatialdata/spatialdata-sandbox/visium_hd_3.0.0_io.zip', zip_filepath)\n",
    "    with zipfile.ZipFile(zip_filepath,\"r\") as zip_ref:\n",
    "        zip_ref.extractall(data_dir)\n",
    "        os.rename(join(data_dir, \"data.zarr\"), spatialdata_filepath)"
   ]
  },
  {
   "cell_type": "markdown",
   "id": "Xref",
   "metadata": {
    "marimo": {
     "config": {
      "hide_code": true
     }
    }
   },
   "source": [
    "## Rasterize bins\n",
    "Reference: https://spatialdata.scverse.org/en/stable/tutorials/notebooks/notebooks/examples/technology_visium_hd.html#performant-on-the-fly-data-rasterization"
   ]
  },
  {
   "cell_type": "code",
   "execution_count": null,
   "id": "SFPL",
   "metadata": {},
   "outputs": [],
   "source": [
    "from spatialdata import (\n",
    "    read_zarr,\n",
    "    rasterize_bins,\n",
    "    rasterize_bins_link_table_to_labels\n",
    ")"
   ]
  },
  {
   "cell_type": "code",
   "execution_count": null,
   "id": "BYtC",
   "metadata": {},
   "outputs": [],
   "source": [
    "sdata = read_zarr(spatialdata_filepath)\n",
    "\n",
    "for bin_size in [\"016\", \"008\", \"002\"]:\n",
    "    # rasterize_bins() requires a compresed sparse column (csc) matrix\n",
    "    sdata.tables[f\"square_{bin_size}um\"].X = sdata.tables[f\"square_{bin_size}um\"].X.tocsc()\n",
    "    rasterized = rasterize_bins(\n",
    "        sdata,\n",
    "        f\"Visium_HD_Mouse_Small_Intestine_square_{bin_size}um\",\n",
    "        f\"square_{bin_size}um\",\n",
    "        \"array_col\",\n",
    "        \"array_row\",\n",
    "        # We want to rasterize to a Labels element, rather than an Image element.\n",
    "        return_region_as_labels=True\n",
    "    )\n",
    "    sdata[f\"rasterized_{bin_size}um\"] = rasterized\n",
    "    rasterize_bins_link_table_to_labels(\n",
    "        sdata,\n",
    "        table_name=f\"square_{bin_size}um\",\n",
    "        rasterized_labels_name=f\"rasterized_{bin_size}um\",\n",
    "    )\n",
    "    try:\n",
    "        sdata.write_element(f\"rasterized_{bin_size}um\")\n",
    "    except:\n",
    "        pass\n",
    "\n",
    "sdata"
   ]
  },
  {
   "cell_type": "code",
   "execution_count": null,
   "id": "RGSE",
   "metadata": {},
   "outputs": [],
   "source": [
    "sdata"
   ]
  },
  {
   "cell_type": "markdown",
   "id": "Kclp",
   "metadata": {
    "marimo": {
     "config": {
      "hide_code": true
     }
    }
   },
   "source": [
    "## Configure Vitessce\n",
    "\n",
    "Vitessce needs to know which pieces of data we are interested in visualizing, the visualization types we would like to use, and how we want to coordinate (or link) the views."
   ]
  },
  {
   "cell_type": "code",
   "execution_count": null,
   "id": "emfo",
   "metadata": {},
   "outputs": [],
   "source": [
    "vc = VitessceConfig(\n",
    "    schema_version=\"1.0.18\",\n",
    "    name='Visium HD SpatialData Demo',\n",
    ")\n",
    "# Add data to the configuration:\n",
    "wrapper = SpatialDataWrapper(\n",
    "    sdata_path=spatialdata_filepath,\n",
    "    # The following paths are relative to the root of the SpatialData zarr store on-disk.\n",
    "    image_path=\"images/Visium_HD_Mouse_Small_Intestine_full_image\",\n",
    "    table_path=\"tables/square_016um\",\n",
    "    obs_feature_matrix_path=\"tables/square_016um/X\",\n",
    "    obs_segmentations_path=\"labels/rasterized_016um\",\n",
    "    #region=\"CytAssist_FFPE_Human_Breast_Cancer\",\n",
    "    coordinate_system=\"Visium_HD_Mouse_Small_Intestine\",\n",
    "    coordination_values={\n",
    "        # The following tells Vitessce to consider each observation as a \"bin\"\n",
    "        \"obsType\": \"bin\",\n",
    "    }\n",
    ")\n",
    "dataset = vc.add_dataset(name='Visium HD').add_object(wrapper)\n",
    "\n",
    "# Add views (visualizations) to the configuration:\n",
    "spatial = vc.add_view(\"spatialBeta\", dataset=dataset)\n",
    "feature_list = vc.add_view(\"featureList\", dataset=dataset)\n",
    "layer_controller = vc.add_view(\"layerControllerBeta\", dataset=dataset)\n",
    "vc.link_views_by_dict([spatial, layer_controller], {\n",
    "    'imageLayer': CL([{\n",
    "        'photometricInterpretation': 'RGB',\n",
    "    }]),\n",
    "}, scope_prefix=get_initial_coordination_scope_prefix(\"A\", \"image\"))\n",
    "vc.link_views_by_dict([spatial, layer_controller], {\n",
    "    'segmentationLayer': CL([{\n",
    "        'segmentationChannel': CL([{\n",
    "            'spatialChannelOpacity': 0.5,\n",
    "            'obsColorEncoding': 'geneSelection',\n",
    "            'featureValueColormapRange': [0, 0.5],\n",
    "        }])\n",
    "    }]),\n",
    "}, scope_prefix=get_initial_coordination_scope_prefix(\"A\", \"obsSegmentations\"))\n",
    "obs_sets = vc.add_view(vt.OBS_SETS, dataset=dataset)\n",
    "vc.link_views([spatial, layer_controller, feature_list, obs_sets], ['obsType', 'featureSelection'], [wrapper.obs_type_label, ['AA986860']])\n",
    "\n",
    "# Layout the views\n",
    "vc.layout(spatial | (feature_list / layer_controller / obs_sets));"
   ]
  },
  {
   "cell_type": "markdown",
   "id": "Hstk",
   "metadata": {},
   "source": [
    "### Render the widget"
   ]
  },
  {
   "cell_type": "code",
   "execution_count": null,
   "id": "nWHF",
   "metadata": {},
   "outputs": [],
   "source": [
    "vw = vc.widget()\n",
    "vw"
   ]
  },
  {
   "cell_type": "code",
   "execution_count": null,
   "id": "iLit",
   "metadata": {},
   "outputs": [],
   "source": [
    "import marimo as mo"
   ]
  }
 ],
 "metadata": {},
 "nbformat": 4,
 "nbformat_minor": 5
}
