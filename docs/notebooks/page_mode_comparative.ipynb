{
 "cells": [
  {
   "cell_type": "markdown",
   "metadata": {
    "nbsphinx": "hidden"
   },
   "source": [
    "# Vitessce Widget Tutorial"
   ]
  },
  {
   "cell_type": "markdown",
   "metadata": {},
   "source": [
    "# Visualization of ComparativeData object"
   ]
  },
  {
   "cell_type": "markdown",
   "metadata": {},
   "source": [
    "## Configure Vitessce"
   ]
  },
  {
   "cell_type": "code",
   "execution_count": 1,
   "metadata": {},
   "outputs": [],
   "source": [
    "from oxc_py import transform\n",
    "from vitessce import VitessceConfig, hconcat, vconcat"
   ]
  },
  {
   "cell_type": "markdown",
   "metadata": {},
   "source": [
    "## Configure the data and views"
   ]
  },
  {
   "cell_type": "code",
   "execution_count": 2,
   "metadata": {},
   "outputs": [],
   "source": [
    "# Reference: https://github.com/vitessce/vitessce/blob/main/examples/configs/src/view-configs/kpmp-premiere.js"
   ]
  },
  {
   "cell_type": "code",
   "execution_count": 3,
   "metadata": {},
   "outputs": [],
   "source": [
    "base_url = 'https://storage.googleapis.com/vitessce-demo-data/kpmp-jan-2025/kpmp_premiere_20250330.adata.zarr'"
   ]
  },
  {
   "cell_type": "code",
   "execution_count": 4,
   "metadata": {},
   "outputs": [],
   "source": [
    "vc = VitessceConfig(schema_version=\"1.0.17\", name='Lake et al.')\n",
    "\n",
    "dataset = vc.add_dataset('lake_et_al').add_file(\n",
    "    file_type='comparisonMetadata.anndata.zarr',\n",
    "    url=base_url,\n",
    "    options={\n",
    "      \"path\": 'uns/comparison_metadata',\n",
    "    },\n",
    "    coordination_values={\n",
    "      \"obsType\": 'cell',\n",
    "      \"sampleType\": 'sample',\n",
    "    },\n",
    ").add_file(\n",
    "    file_type='comparativeFeatureStats.anndata.zarr',\n",
    "    url=base_url,\n",
    "    options= {\n",
    "      \"metadataPath\": 'uns/comparison_metadata',\n",
    "      \"indexColumn\": 'names',\n",
    "      \"pValueColumn\": 'pvals_adj',\n",
    "      \"foldChangeColumn\": 'logfoldchanges',\n",
    "      \"pValueAdjusted\": True,\n",
    "      \"foldChangeTransformation\": 'log2',\n",
    "    },\n",
    "    coordination_values={\n",
    "      \"obsType\": 'cell',\n",
    "      \"sampleType\": 'sample',\n",
    "      \"featureType\": 'gene',\n",
    "    },\n",
    ").add_file(\n",
    "    file_type= 'comparativeObsSetStats.anndata.zarr',\n",
    "    url= base_url,\n",
    "    options= {\n",
    "      \"metadataPath\": 'uns/comparison_metadata',\n",
    "      \"indexColumn\": 'Cell Type',\n",
    "      \"interceptExpectedSampleColumn\": 'Expected Sample_intercept',\n",
    "      \"effectExpectedSampleColumn\": 'Expected Sample_effect',\n",
    "      \"foldChangeColumn\": 'log2-fold change',\n",
    "      \"foldChangeTransformation\": 'log2',\n",
    "      \"isCredibleEffectColumn\": 'is_credible_effect',\n",
    "    },\n",
    "    coordination_values= {\n",
    "      \"obsType\": 'cell',\n",
    "      \"sampleType\": 'sample',\n",
    "    },\n",
    ").add_file(\n",
    "  file_type='comparativeFeatureSetStats.anndata.zarr',\n",
    "  url=base_url,\n",
    "  options= {\n",
    "    \"metadataPath\": 'uns/comparison_metadata',\n",
    "    \"indexColumn\": 'pathway_name',\n",
    "    \"termColumn\": 'pathway_term',\n",
    "    \"pValueColumn\": 'pvals_adj',\n",
    "    \"pValueAdjusted\": True,\n",
    "    \"analysisType\": 'pertpy_hypergeometric',\n",
    "    \"featureSetLibrary\": 'Reactome_2022',\n",
    "  },\n",
    "  coordination_values= {\n",
    "    \"obsType\": 'cell',\n",
    "    \"featureType\": 'gene',\n",
    "    \"sampleType\": 'sample',\n",
    "  },\n",
    ").add_file(\n",
    "  file_type='anndata.zarr',\n",
    "  url=base_url,\n",
    "  coordination_values={\n",
    "    \"obsType\": 'cell',\n",
    "    \"featureType\": 'gene',\n",
    "    \"featureValueType\": 'expression',\n",
    "    \"sampleType\": 'sample',\n",
    "  },\n",
    "  options={\n",
    "    \"obsFeatureMatrix\": {\n",
    "      \"path\": 'layers/pearson_residuals',\n",
    "    },\n",
    "    \"obsEmbedding\": [\n",
    "      {\n",
    "        \"path\": 'obsm/X_densmap',\n",
    "        \"embeddingType\": 'densMAP',\n",
    "      },\n",
    "    ],\n",
    "    \"obsSets\": [\n",
    "      {\n",
    "        \"name\": 'Cell Type',\n",
    "        \"path\": 'obs/cell_type',\n",
    "      },\n",
    "      {\n",
    "        \"name\": 'Subclass L1',\n",
    "        \"path\": 'obs/subclass_l1',\n",
    "      },\n",
    "      {\n",
    "        \"name\": 'Subclass L2',\n",
    "        \"path\": 'obs/subclass_l2',\n",
    "      },\n",
    "      {\n",
    "        \"name\": 'Donor ID',\n",
    "        \"path\": 'obs/donor_id',\n",
    "      },\n",
    "    ],\n",
    "    \"sampleEdges\": {\n",
    "      \"path\": 'obs/SampleID',\n",
    "    },\n",
    "  },\n",
    ").add_file(\n",
    "  file_type='sampleSets.anndata.zarr',\n",
    "  url=f\"{base_url}/uns/__all__.samples\",\n",
    "  options={\n",
    "    \"sampleSets\": [\n",
    "      {\n",
    "        \"name\": 'Disease Type',\n",
    "        \"path\": 'diseasetype',\n",
    "      },\n",
    "      {\n",
    "        \"name\": 'Adjudicated Category',\n",
    "        \"path\": 'AdjudicatedCategory',\n",
    "      },\n",
    "      {\n",
    "        \"name\": 'Enrollment Category',\n",
    "        \"path\": 'EnrollmentCategory',\n",
    "      },\n",
    "    ],\n",
    "  },\n",
    "  coordination_values= {\n",
    "    \"sampleType\": 'sample',\n",
    "  },\n",
    ")\n",
    "\n",
    "biomarkerSelect = vc.add_view('biomarkerSelect', dataset=dataset, uid='biomarker-select')\n",
    "comparativeHeading = vc.add_view('comparativeHeading', dataset=dataset, uid='comparative-heading')\n",
    "dualScatterplot = vc.add_view('dualScatterplot', dataset=dataset, uid='scatterplot')\n",
    "obsSets = vc.add_view('obsSets', dataset=dataset, uid='cell-sets')\n",
    "sampleSets = vc.add_view('sampleSetPairManager', dataset=dataset, uid='sample-sets')\n",
    "obsSetSizes = vc.add_view('obsSetSizes', dataset=dataset)\n",
    "featureList = vc.add_view('featureList', dataset=dataset)\n",
    "violinPlots = vc.add_view('obsSetFeatureValueDistribution', dataset=dataset, uid='violin-plot')\n",
    "dotPlot = vc.add_view('dotPlot', dataset=dataset, uid='dot-plot')\n",
    "treemap = vc.add_view('treemap', dataset=dataset, uid='treemap')\n",
    "volcanoPlot = vc.add_view('volcanoPlot', dataset=dataset, uid='volcano-plot')\n",
    "volcanoPlotTable = vc.add_view('featureStatsTable', dataset=dataset, uid='volcano-plot-table')\n",
    "obsSetCompositionBarPlot = vc.add_view('obsSetCompositionBarPlot', dataset=dataset, uid='sccoda-plot')\n",
    "featureSetEnrichmentBarPlot = vc.add_view('featureSetEnrichmentBarPlot', dataset=dataset, uid='pathways-plot')\n",
    "\n",
    "[sampleSetScope_caseControl] = vc.add_coordination('sampleSetSelection')\n",
    "sampleSetScope_caseControl.set_value([['Disease Type', 'CKD'], ['Disease Type', 'Reference']])\n",
    "\n",
    "[featureSelectionScope] = vc.add_coordination('featureSelection')\n",
    "featureSelectionScope.set_value(['UMOD', 'NPHS2'])\n",
    "\n",
    "vc.link_views_by_dict([dualScatterplot], {\n",
    "    \"embeddingType\": 'densMAP',\n",
    "    \"embeddingContoursVisible\": True,\n",
    "    \"embeddingPointsVisible\": False,\n",
    "    \"embeddingObsSetLabelsVisible\": True,\n",
    "}, meta=False);\n",
    "\n",
    "\n",
    "vc.link_views([biomarkerSelect, dualScatterplot, obsSets, obsSetSizes, featureList, violinPlots, dotPlot, treemap, volcanoPlot, volcanoPlotTable, comparativeHeading, obsSetCompositionBarPlot, featureSetEnrichmentBarPlot, sampleSets], ['sampleType'], ['sample'])\n",
    "\n",
    "vc.link_views_by_dict([biomarkerSelect, dualScatterplot, obsSets, obsSetSizes, featureList, violinPlots, dotPlot, treemap, volcanoPlot, volcanoPlotTable, comparativeHeading, obsSetCompositionBarPlot, featureSetEnrichmentBarPlot, sampleSets], {\n",
    "    \"sampleSetSelection\": sampleSetScope_caseControl,\n",
    "    \"featureSelection\": featureSelectionScope,\n",
    "}, meta=False)\n",
    "\n",
    "vc.link_views_by_dict([dualScatterplot, violinPlots, featureList, dotPlot], {\n",
    "    # \"featureSelection\": ['UMOD', 'NPHS2'], // , 'ENSG00000074803', 'ENSG00000164825'],\n",
    "    \"obsColorEncoding\": 'geneSelection',\n",
    "    \"featureValueColormap\": 'jet',\n",
    "    \"featureValueColormapRange\": [0, 0.25],\n",
    "    \"featureAggregationStrategy\": None,\n",
    "}, meta=False)\n",
    "\n",
    "vc.layout(hconcat(\n",
    "    vconcat(dualScatterplot, biomarkerSelect, comparativeHeading, obsSets, obsSetSizes, featureList),\n",
    "    vconcat(treemap, featureSetEnrichmentBarPlot, violinPlots, dotPlot, obsSetCompositionBarPlot, sampleSets),\n",
    "    volcanoPlotTable,\n",
    "));"
   ]
  },
  {
   "cell_type": "code",
   "execution_count": 5,
   "metadata": {},
   "outputs": [],
   "source": [
    "# vc.to_dict(base_url=\"\")"
   ]
  },
  {
   "cell_type": "markdown",
   "metadata": {
    "tags": []
   },
   "source": [
    "## Define the page layout"
   ]
  },
  {
   "cell_type": "code",
   "execution_count": 6,
   "metadata": {},
   "outputs": [],
   "source": [
    "# Reference: https://github.com/vitessce/vitessce/blob/main/examples/configs/src/view-configs/lake-2023.js\n",
    "PAGE_ESM = transform(\"\"\"\n",
    "function createPage(utilsForPages) {\n",
    "  const {\n",
    "    React,\n",
    "    usePageModeView,\n",
    "  } = utilsForPages;\n",
    "  function PageComponent(props) {\n",
    "    const BiomarkerSelect = usePageModeView('biomarker-select');\n",
    "    const DualScatterplot = usePageModeView('scatterplot');\n",
    "    const CellSets = usePageModeView('cell-sets');\n",
    "    const ViolinPlot = usePageModeView('violin-plot');\n",
    "    const DotPlot = usePageModeView('dot-plot');\n",
    "    \n",
    "    return (\n",
    "        <>\n",
    "          <style>{`\n",
    "          h1, h2, h3, h4, h5, h6 {\n",
    "            font-family: sans-serif;\n",
    "          }\n",
    "          h1 {\n",
    "            font-weight: normal;\n",
    "          }\n",
    "          h2 {\n",
    "            font-size: 36px;\n",
    "          }\n",
    "          h3 {\n",
    "            font-size: 28px;\n",
    "          }\n",
    "          `}\n",
    "          </style>\n",
    "          <div style={{ width: '100%' }}>\n",
    "              <h1>Comparative visualization of single-cell atlas data</h1>\n",
    "              <BiomarkerSelect />\n",
    "          </div>\n",
    "\n",
    "          <div style={{ width: '100%', display: 'flex', flexDirection: 'row' }}>\n",
    "            <div style={{ width: '100%'}}>\n",
    "              <div style={{ width: '100%', display: 'flex', flexDirection: 'row' }}>\n",
    "                <div style={{ width: '45%' }}><h2>Chronic Kidney Disease</h2></div>\n",
    "                <div style={{ width: '5%' }}><h2 style={{ textAlign: 'right' }}>vs.&nbsp;</h2></div>\n",
    "                <div style={{ width: '50%' }}><h2>Healthy Reference</h2></div>\n",
    "              </div>\n",
    "              <h3>Cell type-level representations</h3>\n",
    "              <div style={{ width: '100%', height: '500px' }}>\n",
    "                <DualScatterplot />\n",
    "              </div>\n",
    "              <div style={{ width: '100%', height: '500px' }}>\n",
    "                <ViolinPlot />\n",
    "              </div>\n",
    "              <div style={{ width: '100%', height: '500px' }}>\n",
    "                <DotPlot />\n",
    "              </div>\n",
    "            </div>\n",
    "            <div style={{ width: '14%', height: '500px', marginTop: '213px' }}>\n",
    "              <CellSets />\n",
    "            </div>\n",
    "          </div>\n",
    "\n",
    "        </>\n",
    "      );\n",
    "  }\n",
    "  return PageComponent;\n",
    "}\n",
    "export default { createPage };\n",
    "\"\"\")"
   ]
  },
  {
   "cell_type": "markdown",
   "metadata": {},
   "source": [
    "## Render page as widget"
   ]
  },
  {
   "cell_type": "code",
   "execution_count": 7,
   "metadata": {},
   "outputs": [
    {
     "data": {
      "application/vnd.jupyter.widget-view+json": {
       "model_id": "408477a5c11747ba8e531f0d9c5cd596",
       "version_major": 2,
       "version_minor": 1
      },
      "text/plain": [
       "VitessceWidget(config={'version': '1.0.17', 'name': 'Lake et al.', 'description': '', 'datasets': [{'uid': 'A'…"
      ]
     },
     "execution_count": 7,
     "metadata": {},
     "output_type": "execute_result"
    }
   ],
   "source": [
    "vw = vc.widget(page_esm=PAGE_ESM, page_mode=True, height=3000)\n",
    "vw"
   ]
  },
  {
   "cell_type": "code",
   "execution_count": null,
   "metadata": {},
   "outputs": [],
   "source": []
  }
 ],
 "metadata": {
  "kernelspec": {
   "display_name": "Python 3 (ipykernel)",
   "language": "python",
   "name": "python3"
  },
  "language_info": {
   "codemirror_mode": {
    "name": "ipython",
    "version": 3
   },
   "file_extension": ".py",
   "mimetype": "text/x-python",
   "name": "python",
   "nbconvert_exporter": "python",
   "pygments_lexer": "ipython3",
   "version": "3.10.14"
  }
 },
 "nbformat": 4,
 "nbformat_minor": 4
}
