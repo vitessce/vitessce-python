{
 "cells": [
  {
   "cell_type": "code",
   "execution_count": null,
   "id": "bkHC",
   "metadata": {},
   "outputs": [],
   "source": [
    "import os\n",
    "from os.path import join, isfile, isdir\n",
    "from urllib.request import urlretrieve\n",
    "from anndata import read_h5ad\n",
    "import scanpy as sc\n",
    "\n",
    "from vitessce import (\n",
    "    VitessceConfig,\n",
    "    Component as cm,\n",
    "    CoordinationType as ct,\n",
    "    AnnDataWrapper,\n",
    ")\n",
    "from vitessce.data_utils import (\n",
    "    optimize_adata,\n",
    "    VAR_CHUNK_SIZE,\n",
    ")"
   ]
  },
  {
   "cell_type": "code",
   "execution_count": null,
   "id": "ZHCJ",
   "metadata": {},
   "outputs": [],
   "source": [
    "import marimo as mo"
   ]
  },
  {
   "cell_type": "code",
   "execution_count": null,
   "id": "PKri",
   "metadata": {},
   "outputs": [],
   "source": [
    "adata_filepath = join(\"data\", \"habib17.processed.h5ad\")\n",
    "if not isfile(adata_filepath):\n",
    "    os.makedirs(\"data\", exist_ok=True)\n",
    "    urlretrieve('https://covid19.cog.sanger.ac.uk/habib17.processed.h5ad', adata_filepath)"
   ]
  },
  {
   "cell_type": "markdown",
   "id": "lEQa",
   "metadata": {},
   "source": [
    "## 2. Download the data\n",
    "\n",
    "For this example, we need to download a dataset from the COVID-19 Cell Atlas https://www.covid19cellatlas.org/index.healthy.html#habib17."
   ]
  },
  {
   "cell_type": "markdown",
   "id": "BYtC",
   "metadata": {},
   "source": [
    "## 3.1. Preprocess the Data For Visualization\n",
    "\n",
    "This dataset contains 25,587 genes.  We prepare to visualize the top 50 highly variable genes for the heatmap as ranked by dispersion norm, although one may use any boolean array filter for the heatmap."
   ]
  },
  {
   "cell_type": "markdown",
   "id": "nWHF",
   "metadata": {},
   "source": [
    "## 5. Create the widget"
   ]
  },
  {
   "cell_type": "markdown",
   "id": "Kclp",
   "metadata": {},
   "source": [
    "## 3.2 Save the Data to Zarr store\n",
    "\n",
    "We want to convert the original `h5ad` file to a [Zarr](https://zarr.readthedocs.io/en/stable/) store, which Vitessce is able to load. We can use the `optimize_adata` function to ensure that all arrays and dataframe columns that we intend to use in our visualization are in the optimal format to be loaded by Vitessce. This function will cast arrays to numerical data types that take up less space (as long as the values allow). Note: unused arrays and columns (i.e., not specified in any of the parameters to `optimize_adata`) will not be copied into the new AnnData object."
   ]
  },
  {
   "cell_type": "markdown",
   "id": "vblA",
   "metadata": {},
   "source": [
    "## 1. Import dependencies\n",
    "\n",
    "We need to import the classes and functions that we will be using from the corresponding packages."
   ]
  },
  {
   "cell_type": "markdown",
   "id": "Xref",
   "metadata": {},
   "source": [
    "## 3. Load the data\n",
    "\n",
    "Note: this function may print a `FutureWarning`"
   ]
  },
  {
   "cell_type": "markdown",
   "id": "MJUe",
   "metadata": {},
   "source": [
    "# Visualization of single-cell RNA seq data"
   ]
  },
  {
   "cell_type": "markdown",
   "id": "Hbol",
   "metadata": {},
   "source": [
    "# Vitessce Widget Tutorial"
   ]
  },
  {
   "cell_type": "code",
   "execution_count": null,
   "id": "SFPL",
   "metadata": {},
   "outputs": [],
   "source": [
    "adata = read_h5ad(adata_filepath)"
   ]
  },
  {
   "cell_type": "code",
   "execution_count": null,
   "id": "RGSE",
   "metadata": {},
   "outputs": [],
   "source": [
    "top_dispersion = adata.var[\"dispersions_norm\"][\n",
    "    sorted(\n",
    "        range(len(adata.var[\"dispersions_norm\"])),\n",
    "        key=lambda k: adata.var[\"dispersions_norm\"][k],\n",
    "    )[-51:][0]\n",
    "]\n",
    "adata.var[\"top_highly_variable\"] = (\n",
    "    adata.var[\"dispersions_norm\"] > top_dispersion\n",
    ")"
   ]
  },
  {
   "cell_type": "code",
   "execution_count": null,
   "id": "emfo",
   "metadata": {},
   "outputs": [],
   "source": [
    "zarr_filepath = join(\"data\", \"habib17.h5ad.zarr\")\n",
    "if not isdir(zarr_filepath):\n",
    "    adata.write_zarr(zarr_filepath, chunks=[adata.shape[0], VAR_CHUNK_SIZE])"
   ]
  },
  {
   "cell_type": "code",
   "execution_count": null,
   "id": "Hstk",
   "metadata": {},
   "outputs": [],
   "source": [
    "vc = VitessceConfig(\n",
    "    schema_version=\"1.0.17\",\n",
    "    name='Habib et al',\n",
    "    description='COVID-19 Healthy Donor Brain'\n",
    ")\n",
    "\n",
    "# Add data.\n",
    "dataset = vc.add_dataset(name='Brain').add_object(AnnDataWrapper(\n",
    "    adata_path=zarr_filepath,\n",
    "    obs_embedding_paths=[\"obsm/X_umap\"],\n",
    "    obs_embedding_names=[\"UMAP\"],\n",
    "    obs_set_paths=[\"obs/CellType\"],\n",
    "    obs_set_names=[\"Cell Type\"],\n",
    "    obs_feature_matrix_path=\"X\",\n",
    "    initial_feature_filter_path=\"var/top_highly_variable\",\n",
    "    coordination_values={\n",
    "          \"obsType\": 'cell',\n",
    "          \"featureType\": 'gene',\n",
    "          \"featureValueType\": 'expression',\n",
    "    },\n",
    ")).add_object(AnnDataWrapper(\n",
    "    adata_path=zarr_filepath,\n",
    "    obs_feature_column_paths=[\"obs/percent_mito\"],\n",
    "    coordination_values={\n",
    "        \"obsType\": 'cell',\n",
    "        \"featureType\": 'qualityMetric',\n",
    "        \"featureValueType\": 'value',\n",
    "    }\n",
    "))\n",
    "\n",
    "# Add views.\n",
    "scatterplot = vc.add_view(cm.SCATTERPLOT, dataset=dataset, mapping=\"UMAP\")\n",
    "scatterplot_2 = vc.add_view(cm.SCATTERPLOT, dataset=dataset, mapping=\"UMAP\")\n",
    "cell_sets = vc.add_view(cm.OBS_SETS, dataset=dataset)\n",
    "genes = vc.add_view(cm.FEATURE_LIST, dataset=dataset)\n",
    "histogram = vc.add_view(cm.FEATURE_VALUE_HISTOGRAM, dataset=dataset)\n",
    "\n",
    "# Link views.\n",
    "\n",
    "# Color one of the two scatterplots by the percent_mito quality metric.\n",
    "# Also use this quality metric for the histogram values.\n",
    "vc.link_views_by_dict([histogram, scatterplot_2], {\n",
    "    \"obsType\": 'cell',\n",
    "    \"featureType\": 'qualityMetric',\n",
    "    \"featureValueType\": 'value',\n",
    "    \"featureSelection\": [\"percent_mito\"],\n",
    "    \"obsColorEncoding\": \"geneSelection\",\n",
    "}, meta=False)\n",
    "\n",
    "# Synchronize the zooming and panning of the two scatterplots\n",
    "vc.link_views_by_dict([scatterplot, scatterplot_2], {\n",
    "    \"embeddingZoom\": None,\n",
    "    \"embeddingTargetX\": None,\n",
    "    \"embeddingTargetY\": None,\n",
    "}, meta=False)\n",
    "\n",
    "# Define the layout.\n",
    "vc.layout((scatterplot | (cell_sets / genes)) / (scatterplot_2 | histogram));"
   ]
  },
  {
   "cell_type": "code",
   "execution_count": null,
   "id": "iLit",
   "metadata": {},
   "outputs": [],
   "source": [
    "vw = vc.widget()\n",
    "vw"
   ]
  }
 ],
 "metadata": {},
 "nbformat": 4,
 "nbformat_minor": 5
}
